{
  "nbformat": 4,
  "nbformat_minor": 0,
  "metadata": {
    "colab": {
      "name": "Machine Learning Terapan - Submission - Proyek Kedua.ipynb",
      "provenance": [],
      "collapsed_sections": []
    },
    "kernelspec": {
      "name": "python3",
      "display_name": "Python 3"
    },
    "language_info": {
      "name": "python"
    },
    "gpuClass": "standard"
  },
  "cells": [
    {
      "cell_type": "markdown",
      "source": [
        "# **Movie Recommendation System with Collaborative Filtering**"
      ],
      "metadata": {
        "id": "_VTJcol1nHDf"
      }
    },
    {
      "cell_type": "markdown",
      "source": [
        "## Project Overview"
      ],
      "metadata": {
        "id": "oUxivMBXnb9N"
      }
    },
    {
      "cell_type": "markdown",
      "source": [
        "Pertumbuhan pasar industri dari film luar negeri ke film dalam negeri semakin menjanjikan. Dilihat dari  jumlah penonton bioskop yang terus meningkat setiap tahunnya. Pada tahun 2018, jumlah penonton bioskop di Indonesia sendiri mencapai lebih dari 50 juta, dengan jumlah produk film luar dan dalam negeri mencapai hampir 200 judul  yang diputar di seluruh Indonesia [1].\n",
        "\n",
        "Dari sekian banyak film yang diproduksi, sulit bagi calon penonton untuk memutuskan mana yang akan ditonton. Menemukan sebuah film tentu saja membutuhkan waktu, apalagi film tersebut telah menentukan bahwa itu  belum tentu diinginkan oleh calon penonton setelah menonton, sehingga mereka akan menghabiskan  lebih banyak waktu untuk itu. Menonton film di bioskop, platform penyedia layanan streaming, serta menyewa dan membeli DVD juga mahal, sayang sekali jika film yang Anda tonton tidak sesuai keinginan.\n",
        "\n",
        "Sistem rujukan adalah program atau sistem penyaringan informasi yang merupakan solusi untuk masalah kelebihan informasi dengan  menyaring beberapa informasi penting dari  informasi yang tersedia dan bertindak berdasarkan minat, hubungan minat atau perilaku pengguna dalam suatu item. Sistem rekomendasi dirancang untuk memahami dan memprediksi preferensi pengguna berdasarkan perilaku pengguna [2]. Terdapat beberapa     metode yang dapat digunakan dalam membangun sebuah sistem rekomendasi antara lain *content based filtering*, *collaborative filtering*, dan *hybrid filtering*. *Collaborative filtering* menganalisis pengalaman dan peringkat pengguna sebelumnya dan menghubungkannya dengan pengguna lain [2].\n",
        "\n",
        "Penulis ingin mempertimbangkan sistem rekomendasi film dengan mendeteksi kesamaan film yang ditonton berdasarkan rating yang diberikan oleh pengguna (*collaborative filtering*), kemudian dimungkinkan untuk mengurutkan berdasarkan rating film yang paling mirip dan akan menjadi rekomendasi film-film yang akan datang untuk ditonton. Jadi calon penonton tidak perlu lagi membuang waktu untuk mencari film satu per satu."
      ],
      "metadata": {
        "id": "0-3J0JDsUJN6"
      }
    },
    {
      "cell_type": "markdown",
      "source": [
        "## Business Understanding"
      ],
      "metadata": {
        "id": "uGFXZv-Qngam"
      }
    },
    {
      "cell_type": "markdown",
      "source": [
        "Sebagai seorang Data Scientist, tentu Anda ingin memanfaatkan data tersebut untuk meningkatkan transaksi di perusahaan. Sistem ini mencoba memecahkan masalah rekomendasi yang unik yang dihasilkan dari pengabaian data khusus untuk pengguna."
      ],
      "metadata": {
        "id": "M6Gu1fbxn-qN"
      }
    },
    {
      "cell_type": "markdown",
      "source": [
        "### Problem Statements\n",
        "\n",
        "Kembangkan sebuah sistem rekomendasi movie untuk menjawab permasalahan berikut:\n",
        "\n",
        "* Dengan data rating yang Anda miliki, bagaimana perusahaan dapat merekomendasikan movie lain yang mungkin disukai dan belum pernah ditonton oleh pengguna? "
      ],
      "metadata": {
        "id": "fmYvjzuIrvP-"
      }
    },
    {
      "cell_type": "markdown",
      "source": [
        "### Goals\n",
        "\n",
        "Untuk  menjawab pertanyaan tersebut, buatlah sistem rekomendasi dengan tujuan atau goals sebagai berikut:\n",
        "\n",
        "* Menghasilkan sejumlah rekomendasi movie yang sesuai dengan preferensi pengguna dan belum pernah ditonton sebelumnya dengan teknik *collaborative filtering*."
      ],
      "metadata": {
        "id": "7TC7LM1dr2Xd"
      }
    },
    {
      "cell_type": "markdown",
      "source": [
        "## Data Understanding"
      ],
      "metadata": {
        "id": "oB-OCCBxZSJ6"
      }
    },
    {
      "cell_type": "markdown",
      "source": [
        "Dataset yang digunakan berupa 2 file csv yang merupakan data rating movie dari pengguna dan data judul movie. Anda dapat mengunduh dataset ini melalui web Kaggle [berikut](https://www.kaggle.com/datasets/dev0914sharma/dataset)."
      ],
      "metadata": {
        "id": "WKF8aZAIZVRB"
      }
    },
    {
      "cell_type": "markdown",
      "source": [
        "### Data Loading"
      ],
      "metadata": {
        "id": "XtFsH3Pmt0BG"
      }
    },
    {
      "cell_type": "markdown",
      "source": [
        "Supaya isi dataset lebih mudah dipahami, kita perlu melakukan proses loading data terlebih dahulu."
      ],
      "metadata": {
        "id": "tkmaIB5Gt4wL"
      }
    },
    {
      "cell_type": "code",
      "execution_count": 1,
      "metadata": {
        "id": "IXUXBueoXZOO"
      },
      "outputs": [],
      "source": [
        "! pip install -q kaggle"
      ]
    },
    {
      "cell_type": "code",
      "source": [
        "from google.colab import files\n",
        "\n",
        "files.upload()"
      ],
      "metadata": {
        "colab": {
          "resources": {
            "http://localhost:8080/nbextensions/google.colab/files.js": {
              "data": "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",
              "ok": true,
              "headers": [
                [
                  "content-type",
                  "application/javascript"
                ]
              ],
              "status": 200,
              "status_text": ""
            }
          },
          "base_uri": "https://localhost:8080/",
          "height": 90
        },
        "id": "lN8auWQOXlrg",
        "outputId": "9b021823-6c97-4e73-c08f-ba9cd2707243"
      },
      "execution_count": 2,
      "outputs": [
        {
          "output_type": "display_data",
          "data": {
            "text/plain": [
              "<IPython.core.display.HTML object>"
            ],
            "text/html": [
              "\n",
              "     <input type=\"file\" id=\"files-08c1bbda-b247-4bc3-8ddc-77ed3b851858\" name=\"files[]\" multiple disabled\n",
              "        style=\"border:none\" />\n",
              "     <output id=\"result-08c1bbda-b247-4bc3-8ddc-77ed3b851858\">\n",
              "      Upload widget is only available when the cell has been executed in the\n",
              "      current browser session. Please rerun this cell to enable.\n",
              "      </output>\n",
              "      <script src=\"/nbextensions/google.colab/files.js\"></script> "
            ]
          },
          "metadata": {}
        },
        {
          "output_type": "stream",
          "name": "stdout",
          "text": [
            "Saving kaggle.json to kaggle.json\n"
          ]
        },
        {
          "output_type": "execute_result",
          "data": {
            "text/plain": [
              "{'kaggle.json': b'{\"username\":\"muhammadamanda\",\"key\":\"eafd1b3af85f087b31da98e2cf8a1c02\"}'}"
            ]
          },
          "metadata": {},
          "execution_count": 2
        }
      ]
    },
    {
      "cell_type": "code",
      "source": [
        "! mkdir ~/.kaggle\n",
        "\n",
        "! cp kaggle.json ~/.kaggle/\n",
        "\n",
        "! chmod 600 ~/.kaggle/kaggle.json"
      ],
      "metadata": {
        "id": "W1rnAzWtXr9G"
      },
      "execution_count": 3,
      "outputs": []
    },
    {
      "cell_type": "code",
      "source": [
        "! kaggle datasets download dev0914sharma/dataset"
      ],
      "metadata": {
        "colab": {
          "base_uri": "https://localhost:8080/"
        },
        "id": "pptzULQdXtnv",
        "outputId": "6bc8382f-5170-4935-d94e-9ec884d38499"
      },
      "execution_count": 4,
      "outputs": [
        {
          "output_type": "stream",
          "name": "stdout",
          "text": [
            "Downloading dataset.zip to /content\n",
            "\r  0% 0.00/874k [00:00<?, ?B/s]\n",
            "\r100% 874k/874k [00:00<00:00, 125MB/s]\n"
          ]
        }
      ]
    },
    {
      "cell_type": "code",
      "source": [
        "! mkdir data"
      ],
      "metadata": {
        "id": "x_MHSuOGXu2f"
      },
      "execution_count": 5,
      "outputs": []
    },
    {
      "cell_type": "code",
      "source": [
        "! unzip dataset -d data"
      ],
      "metadata": {
        "colab": {
          "base_uri": "https://localhost:8080/"
        },
        "id": "um1AXrh9XyiI",
        "outputId": "c6fb1249-2fdd-4be2-8efd-a06ad116f7a1"
      },
      "execution_count": 6,
      "outputs": [
        {
          "output_type": "stream",
          "name": "stdout",
          "text": [
            "Archive:  dataset.zip\n",
            "  inflating: data/Dataset.csv        \n",
            "  inflating: data/Movie_Id_Titles.csv  \n"
          ]
        }
      ]
    },
    {
      "cell_type": "code",
      "source": [
        "# Import library\n",
        "import pandas as pd\n",
        "import numpy as np \n",
        "import tensorflow as tf\n",
        "from tensorflow import keras\n",
        "from tensorflow.keras import layers\n",
        "import matplotlib.pyplot as plt"
      ],
      "metadata": {
        "id": "JpwTgggmYmZY"
      },
      "execution_count": 7,
      "outputs": []
    },
    {
      "cell_type": "code",
      "source": [
        "rating = pd.read_csv('/content/data/Dataset.csv')\n",
        "movie = pd.read_csv('/content/data/Movie_Id_Titles.csv')\n",
        "\n",
        "print('Jumlah data penilaian yang diberikan pengguna: ', len(rating))\n",
        "print('Jumlah data movie: ', len(movie))"
      ],
      "metadata": {
        "colab": {
          "base_uri": "https://localhost:8080/"
        },
        "id": "0Io5AgDihSDg",
        "outputId": "89fc9c70-bf5e-4650-fd1a-a0db1b1084b8"
      },
      "execution_count": 8,
      "outputs": [
        {
          "output_type": "stream",
          "name": "stdout",
          "text": [
            "Jumlah data penilaian yang diberikan pengguna:  100003\n",
            "Jumlah data movie:  1682\n"
          ]
        }
      ]
    },
    {
      "cell_type": "markdown",
      "source": [
        "Data penilaian yang diberikan pengguna terdapat 100003 observasi dan data movie terdapat 1682 item."
      ],
      "metadata": {
        "id": "gSAk9IAIqXR0"
      }
    },
    {
      "cell_type": "code",
      "source": [
        "df = rating\n",
        "df"
      ],
      "metadata": {
        "colab": {
          "base_uri": "https://localhost:8080/",
          "height": 424
        },
        "id": "Wrea27SkYVtx",
        "outputId": "dcf8d66c-4844-4eb1-fb1c-9e8efbd992fa"
      },
      "execution_count": 35,
      "outputs": [
        {
          "output_type": "execute_result",
          "data": {
            "text/plain": [
              "        user_id  item_id  rating  timestamp  user  movie\n",
              "0             0       50     5.0  881250949     0      0\n",
              "1             0      172     5.0  881250949     0      1\n",
              "2             0      133     1.0  881250949     0      2\n",
              "3           196      242     3.0  881250949     1      3\n",
              "4           186      302     3.0  891717742     2      4\n",
              "...         ...      ...     ...        ...   ...    ...\n",
              "99998       880      476     3.0  880175444   876    175\n",
              "99999       716      204     5.0  879795543   709    248\n",
              "100000      276     1090     1.0  874795795    38   1004\n",
              "100001       13      225     2.0  882399156    59    443\n",
              "100002       12      203     3.0  879959583   305    506\n",
              "\n",
              "[100003 rows x 6 columns]"
            ],
            "text/html": [
              "\n",
              "  <div id=\"df-be679d71-30e5-45a0-9448-06137b0edb17\">\n",
              "    <div class=\"colab-df-container\">\n",
              "      <div>\n",
              "<style scoped>\n",
              "    .dataframe tbody tr th:only-of-type {\n",
              "        vertical-align: middle;\n",
              "    }\n",
              "\n",
              "    .dataframe tbody tr th {\n",
              "        vertical-align: top;\n",
              "    }\n",
              "\n",
              "    .dataframe thead th {\n",
              "        text-align: right;\n",
              "    }\n",
              "</style>\n",
              "<table border=\"1\" class=\"dataframe\">\n",
              "  <thead>\n",
              "    <tr style=\"text-align: right;\">\n",
              "      <th></th>\n",
              "      <th>user_id</th>\n",
              "      <th>item_id</th>\n",
              "      <th>rating</th>\n",
              "      <th>timestamp</th>\n",
              "      <th>user</th>\n",
              "      <th>movie</th>\n",
              "    </tr>\n",
              "  </thead>\n",
              "  <tbody>\n",
              "    <tr>\n",
              "      <th>0</th>\n",
              "      <td>0</td>\n",
              "      <td>50</td>\n",
              "      <td>5.0</td>\n",
              "      <td>881250949</td>\n",
              "      <td>0</td>\n",
              "      <td>0</td>\n",
              "    </tr>\n",
              "    <tr>\n",
              "      <th>1</th>\n",
              "      <td>0</td>\n",
              "      <td>172</td>\n",
              "      <td>5.0</td>\n",
              "      <td>881250949</td>\n",
              "      <td>0</td>\n",
              "      <td>1</td>\n",
              "    </tr>\n",
              "    <tr>\n",
              "      <th>2</th>\n",
              "      <td>0</td>\n",
              "      <td>133</td>\n",
              "      <td>1.0</td>\n",
              "      <td>881250949</td>\n",
              "      <td>0</td>\n",
              "      <td>2</td>\n",
              "    </tr>\n",
              "    <tr>\n",
              "      <th>3</th>\n",
              "      <td>196</td>\n",
              "      <td>242</td>\n",
              "      <td>3.0</td>\n",
              "      <td>881250949</td>\n",
              "      <td>1</td>\n",
              "      <td>3</td>\n",
              "    </tr>\n",
              "    <tr>\n",
              "      <th>4</th>\n",
              "      <td>186</td>\n",
              "      <td>302</td>\n",
              "      <td>3.0</td>\n",
              "      <td>891717742</td>\n",
              "      <td>2</td>\n",
              "      <td>4</td>\n",
              "    </tr>\n",
              "    <tr>\n",
              "      <th>...</th>\n",
              "      <td>...</td>\n",
              "      <td>...</td>\n",
              "      <td>...</td>\n",
              "      <td>...</td>\n",
              "      <td>...</td>\n",
              "      <td>...</td>\n",
              "    </tr>\n",
              "    <tr>\n",
              "      <th>99998</th>\n",
              "      <td>880</td>\n",
              "      <td>476</td>\n",
              "      <td>3.0</td>\n",
              "      <td>880175444</td>\n",
              "      <td>876</td>\n",
              "      <td>175</td>\n",
              "    </tr>\n",
              "    <tr>\n",
              "      <th>99999</th>\n",
              "      <td>716</td>\n",
              "      <td>204</td>\n",
              "      <td>5.0</td>\n",
              "      <td>879795543</td>\n",
              "      <td>709</td>\n",
              "      <td>248</td>\n",
              "    </tr>\n",
              "    <tr>\n",
              "      <th>100000</th>\n",
              "      <td>276</td>\n",
              "      <td>1090</td>\n",
              "      <td>1.0</td>\n",
              "      <td>874795795</td>\n",
              "      <td>38</td>\n",
              "      <td>1004</td>\n",
              "    </tr>\n",
              "    <tr>\n",
              "      <th>100001</th>\n",
              "      <td>13</td>\n",
              "      <td>225</td>\n",
              "      <td>2.0</td>\n",
              "      <td>882399156</td>\n",
              "      <td>59</td>\n",
              "      <td>443</td>\n",
              "    </tr>\n",
              "    <tr>\n",
              "      <th>100002</th>\n",
              "      <td>12</td>\n",
              "      <td>203</td>\n",
              "      <td>3.0</td>\n",
              "      <td>879959583</td>\n",
              "      <td>305</td>\n",
              "      <td>506</td>\n",
              "    </tr>\n",
              "  </tbody>\n",
              "</table>\n",
              "<p>100003 rows × 6 columns</p>\n",
              "</div>\n",
              "      <button class=\"colab-df-convert\" onclick=\"convertToInteractive('df-be679d71-30e5-45a0-9448-06137b0edb17')\"\n",
              "              title=\"Convert this dataframe to an interactive table.\"\n",
              "              style=\"display:none;\">\n",
              "        \n",
              "  <svg xmlns=\"http://www.w3.org/2000/svg\" height=\"24px\"viewBox=\"0 0 24 24\"\n",
              "       width=\"24px\">\n",
              "    <path d=\"M0 0h24v24H0V0z\" fill=\"none\"/>\n",
              "    <path d=\"M18.56 5.44l.94 2.06.94-2.06 2.06-.94-2.06-.94-.94-2.06-.94 2.06-2.06.94zm-11 1L8.5 8.5l.94-2.06 2.06-.94-2.06-.94L8.5 2.5l-.94 2.06-2.06.94zm10 10l.94 2.06.94-2.06 2.06-.94-2.06-.94-.94-2.06-.94 2.06-2.06.94z\"/><path d=\"M17.41 7.96l-1.37-1.37c-.4-.4-.92-.59-1.43-.59-.52 0-1.04.2-1.43.59L10.3 9.45l-7.72 7.72c-.78.78-.78 2.05 0 2.83L4 21.41c.39.39.9.59 1.41.59.51 0 1.02-.2 1.41-.59l7.78-7.78 2.81-2.81c.8-.78.8-2.07 0-2.86zM5.41 20L4 18.59l7.72-7.72 1.47 1.35L5.41 20z\"/>\n",
              "  </svg>\n",
              "      </button>\n",
              "      \n",
              "  <style>\n",
              "    .colab-df-container {\n",
              "      display:flex;\n",
              "      flex-wrap:wrap;\n",
              "      gap: 12px;\n",
              "    }\n",
              "\n",
              "    .colab-df-convert {\n",
              "      background-color: #E8F0FE;\n",
              "      border: none;\n",
              "      border-radius: 50%;\n",
              "      cursor: pointer;\n",
              "      display: none;\n",
              "      fill: #1967D2;\n",
              "      height: 32px;\n",
              "      padding: 0 0 0 0;\n",
              "      width: 32px;\n",
              "    }\n",
              "\n",
              "    .colab-df-convert:hover {\n",
              "      background-color: #E2EBFA;\n",
              "      box-shadow: 0px 1px 2px rgba(60, 64, 67, 0.3), 0px 1px 3px 1px rgba(60, 64, 67, 0.15);\n",
              "      fill: #174EA6;\n",
              "    }\n",
              "\n",
              "    [theme=dark] .colab-df-convert {\n",
              "      background-color: #3B4455;\n",
              "      fill: #D2E3FC;\n",
              "    }\n",
              "\n",
              "    [theme=dark] .colab-df-convert:hover {\n",
              "      background-color: #434B5C;\n",
              "      box-shadow: 0px 1px 3px 1px rgba(0, 0, 0, 0.15);\n",
              "      filter: drop-shadow(0px 1px 2px rgba(0, 0, 0, 0.3));\n",
              "      fill: #FFFFFF;\n",
              "    }\n",
              "  </style>\n",
              "\n",
              "      <script>\n",
              "        const buttonEl =\n",
              "          document.querySelector('#df-be679d71-30e5-45a0-9448-06137b0edb17 button.colab-df-convert');\n",
              "        buttonEl.style.display =\n",
              "          google.colab.kernel.accessAllowed ? 'block' : 'none';\n",
              "\n",
              "        async function convertToInteractive(key) {\n",
              "          const element = document.querySelector('#df-be679d71-30e5-45a0-9448-06137b0edb17');\n",
              "          const dataTable =\n",
              "            await google.colab.kernel.invokeFunction('convertToInteractive',\n",
              "                                                     [key], {});\n",
              "          if (!dataTable) return;\n",
              "\n",
              "          const docLinkHtml = 'Like what you see? Visit the ' +\n",
              "            '<a target=\"_blank\" href=https://colab.research.google.com/notebooks/data_table.ipynb>data table notebook</a>'\n",
              "            + ' to learn more about interactive tables.';\n",
              "          element.innerHTML = '';\n",
              "          dataTable['output_type'] = 'display_data';\n",
              "          await google.colab.output.renderOutput(dataTable, element);\n",
              "          const docLink = document.createElement('div');\n",
              "          docLink.innerHTML = docLinkHtml;\n",
              "          element.appendChild(docLink);\n",
              "        }\n",
              "      </script>\n",
              "    </div>\n",
              "  </div>\n",
              "  "
            ]
          },
          "metadata": {},
          "execution_count": 35
        }
      ]
    },
    {
      "cell_type": "markdown",
      "source": [
        "Perhatikanlah, data rating memiliki 100003 baris dan 4 kolom."
      ],
      "metadata": {
        "id": "vjcqjgU4ZoWv"
      }
    },
    {
      "cell_type": "code",
      "source": [
        "df.head()"
      ],
      "metadata": {
        "colab": {
          "base_uri": "https://localhost:8080/",
          "height": 206
        },
        "id": "n3Qsea1QY51_",
        "outputId": "46bb5d63-ce25-4e97-c75c-08aa985e03cb"
      },
      "execution_count": 11,
      "outputs": [
        {
          "output_type": "execute_result",
          "data": {
            "text/plain": [
              "   user_id  item_id  rating  timestamp\n",
              "0        0       50       5  881250949\n",
              "1        0      172       5  881250949\n",
              "2        0      133       1  881250949\n",
              "3      196      242       3  881250949\n",
              "4      186      302       3  891717742"
            ],
            "text/html": [
              "\n",
              "  <div id=\"df-fd23d2e3-809b-4ff8-8667-373b4ac488de\">\n",
              "    <div class=\"colab-df-container\">\n",
              "      <div>\n",
              "<style scoped>\n",
              "    .dataframe tbody tr th:only-of-type {\n",
              "        vertical-align: middle;\n",
              "    }\n",
              "\n",
              "    .dataframe tbody tr th {\n",
              "        vertical-align: top;\n",
              "    }\n",
              "\n",
              "    .dataframe thead th {\n",
              "        text-align: right;\n",
              "    }\n",
              "</style>\n",
              "<table border=\"1\" class=\"dataframe\">\n",
              "  <thead>\n",
              "    <tr style=\"text-align: right;\">\n",
              "      <th></th>\n",
              "      <th>user_id</th>\n",
              "      <th>item_id</th>\n",
              "      <th>rating</th>\n",
              "      <th>timestamp</th>\n",
              "    </tr>\n",
              "  </thead>\n",
              "  <tbody>\n",
              "    <tr>\n",
              "      <th>0</th>\n",
              "      <td>0</td>\n",
              "      <td>50</td>\n",
              "      <td>5</td>\n",
              "      <td>881250949</td>\n",
              "    </tr>\n",
              "    <tr>\n",
              "      <th>1</th>\n",
              "      <td>0</td>\n",
              "      <td>172</td>\n",
              "      <td>5</td>\n",
              "      <td>881250949</td>\n",
              "    </tr>\n",
              "    <tr>\n",
              "      <th>2</th>\n",
              "      <td>0</td>\n",
              "      <td>133</td>\n",
              "      <td>1</td>\n",
              "      <td>881250949</td>\n",
              "    </tr>\n",
              "    <tr>\n",
              "      <th>3</th>\n",
              "      <td>196</td>\n",
              "      <td>242</td>\n",
              "      <td>3</td>\n",
              "      <td>881250949</td>\n",
              "    </tr>\n",
              "    <tr>\n",
              "      <th>4</th>\n",
              "      <td>186</td>\n",
              "      <td>302</td>\n",
              "      <td>3</td>\n",
              "      <td>891717742</td>\n",
              "    </tr>\n",
              "  </tbody>\n",
              "</table>\n",
              "</div>\n",
              "      <button class=\"colab-df-convert\" onclick=\"convertToInteractive('df-fd23d2e3-809b-4ff8-8667-373b4ac488de')\"\n",
              "              title=\"Convert this dataframe to an interactive table.\"\n",
              "              style=\"display:none;\">\n",
              "        \n",
              "  <svg xmlns=\"http://www.w3.org/2000/svg\" height=\"24px\"viewBox=\"0 0 24 24\"\n",
              "       width=\"24px\">\n",
              "    <path d=\"M0 0h24v24H0V0z\" fill=\"none\"/>\n",
              "    <path d=\"M18.56 5.44l.94 2.06.94-2.06 2.06-.94-2.06-.94-.94-2.06-.94 2.06-2.06.94zm-11 1L8.5 8.5l.94-2.06 2.06-.94-2.06-.94L8.5 2.5l-.94 2.06-2.06.94zm10 10l.94 2.06.94-2.06 2.06-.94-2.06-.94-.94-2.06-.94 2.06-2.06.94z\"/><path d=\"M17.41 7.96l-1.37-1.37c-.4-.4-.92-.59-1.43-.59-.52 0-1.04.2-1.43.59L10.3 9.45l-7.72 7.72c-.78.78-.78 2.05 0 2.83L4 21.41c.39.39.9.59 1.41.59.51 0 1.02-.2 1.41-.59l7.78-7.78 2.81-2.81c.8-.78.8-2.07 0-2.86zM5.41 20L4 18.59l7.72-7.72 1.47 1.35L5.41 20z\"/>\n",
              "  </svg>\n",
              "      </button>\n",
              "      \n",
              "  <style>\n",
              "    .colab-df-container {\n",
              "      display:flex;\n",
              "      flex-wrap:wrap;\n",
              "      gap: 12px;\n",
              "    }\n",
              "\n",
              "    .colab-df-convert {\n",
              "      background-color: #E8F0FE;\n",
              "      border: none;\n",
              "      border-radius: 50%;\n",
              "      cursor: pointer;\n",
              "      display: none;\n",
              "      fill: #1967D2;\n",
              "      height: 32px;\n",
              "      padding: 0 0 0 0;\n",
              "      width: 32px;\n",
              "    }\n",
              "\n",
              "    .colab-df-convert:hover {\n",
              "      background-color: #E2EBFA;\n",
              "      box-shadow: 0px 1px 2px rgba(60, 64, 67, 0.3), 0px 1px 3px 1px rgba(60, 64, 67, 0.15);\n",
              "      fill: #174EA6;\n",
              "    }\n",
              "\n",
              "    [theme=dark] .colab-df-convert {\n",
              "      background-color: #3B4455;\n",
              "      fill: #D2E3FC;\n",
              "    }\n",
              "\n",
              "    [theme=dark] .colab-df-convert:hover {\n",
              "      background-color: #434B5C;\n",
              "      box-shadow: 0px 1px 3px 1px rgba(0, 0, 0, 0.15);\n",
              "      filter: drop-shadow(0px 1px 2px rgba(0, 0, 0, 0.3));\n",
              "      fill: #FFFFFF;\n",
              "    }\n",
              "  </style>\n",
              "\n",
              "      <script>\n",
              "        const buttonEl =\n",
              "          document.querySelector('#df-fd23d2e3-809b-4ff8-8667-373b4ac488de button.colab-df-convert');\n",
              "        buttonEl.style.display =\n",
              "          google.colab.kernel.accessAllowed ? 'block' : 'none';\n",
              "\n",
              "        async function convertToInteractive(key) {\n",
              "          const element = document.querySelector('#df-fd23d2e3-809b-4ff8-8667-373b4ac488de');\n",
              "          const dataTable =\n",
              "            await google.colab.kernel.invokeFunction('convertToInteractive',\n",
              "                                                     [key], {});\n",
              "          if (!dataTable) return;\n",
              "\n",
              "          const docLinkHtml = 'Like what you see? Visit the ' +\n",
              "            '<a target=\"_blank\" href=https://colab.research.google.com/notebooks/data_table.ipynb>data table notebook</a>'\n",
              "            + ' to learn more about interactive tables.';\n",
              "          element.innerHTML = '';\n",
              "          dataTable['output_type'] = 'display_data';\n",
              "          await google.colab.output.renderOutput(dataTable, element);\n",
              "          const docLink = document.createElement('div');\n",
              "          docLink.innerHTML = docLinkHtml;\n",
              "          element.appendChild(docLink);\n",
              "        }\n",
              "      </script>\n",
              "    </div>\n",
              "  </div>\n",
              "  "
            ]
          },
          "metadata": {},
          "execution_count": 11
        }
      ]
    },
    {
      "cell_type": "markdown",
      "source": [
        "Dari fungsi df.head(), kita dapat mengetahui bahwa data rating terdiri dari 5 kolom dengan lima kategori rating. Kolom-kolom tersebut antara lain:\n",
        "\n",
        "\n",
        "* user_id, merupakan identitas pengguna.\n",
        "* item_id, merupakan identitas movie.\n",
        "* rating, merupakan data rating untuk movie.\n",
        "* timestamp, merupakan data waktu saat pengguna memberikan rating pada movie.\n",
        "\n",
        "Nah, untuk melihat distribusi rating pada data, gunakan fungsi describe()"
      ],
      "metadata": {
        "id": "sesve2cCZwpv"
      }
    },
    {
      "cell_type": "code",
      "source": [
        "df.describe()"
      ],
      "metadata": {
        "colab": {
          "base_uri": "https://localhost:8080/",
          "height": 301
        },
        "id": "M7ch1XIpY7cw",
        "outputId": "7efd498e-97a0-4d5d-c6d1-8948e7ee6cb7"
      },
      "execution_count": 12,
      "outputs": [
        {
          "output_type": "execute_result",
          "data": {
            "text/plain": [
              "             user_id        item_id         rating     timestamp\n",
              "count  100003.000000  100003.000000  100003.000000  1.000030e+05\n",
              "mean      462.470876     425.520914       3.529864  8.835288e+08\n",
              "std       266.622454     330.797791       1.125704  5.343791e+06\n",
              "min         0.000000       1.000000       1.000000  8.747247e+08\n",
              "25%       254.000000     175.000000       3.000000  8.794487e+08\n",
              "50%       447.000000     322.000000       4.000000  8.828269e+08\n",
              "75%       682.000000     631.000000       4.000000  8.882600e+08\n",
              "max       943.000000    1682.000000       5.000000  8.932866e+08"
            ],
            "text/html": [
              "\n",
              "  <div id=\"df-a2fd81e7-c2c4-4575-a853-a9e14c8788af\">\n",
              "    <div class=\"colab-df-container\">\n",
              "      <div>\n",
              "<style scoped>\n",
              "    .dataframe tbody tr th:only-of-type {\n",
              "        vertical-align: middle;\n",
              "    }\n",
              "\n",
              "    .dataframe tbody tr th {\n",
              "        vertical-align: top;\n",
              "    }\n",
              "\n",
              "    .dataframe thead th {\n",
              "        text-align: right;\n",
              "    }\n",
              "</style>\n",
              "<table border=\"1\" class=\"dataframe\">\n",
              "  <thead>\n",
              "    <tr style=\"text-align: right;\">\n",
              "      <th></th>\n",
              "      <th>user_id</th>\n",
              "      <th>item_id</th>\n",
              "      <th>rating</th>\n",
              "      <th>timestamp</th>\n",
              "    </tr>\n",
              "  </thead>\n",
              "  <tbody>\n",
              "    <tr>\n",
              "      <th>count</th>\n",
              "      <td>100003.000000</td>\n",
              "      <td>100003.000000</td>\n",
              "      <td>100003.000000</td>\n",
              "      <td>1.000030e+05</td>\n",
              "    </tr>\n",
              "    <tr>\n",
              "      <th>mean</th>\n",
              "      <td>462.470876</td>\n",
              "      <td>425.520914</td>\n",
              "      <td>3.529864</td>\n",
              "      <td>8.835288e+08</td>\n",
              "    </tr>\n",
              "    <tr>\n",
              "      <th>std</th>\n",
              "      <td>266.622454</td>\n",
              "      <td>330.797791</td>\n",
              "      <td>1.125704</td>\n",
              "      <td>5.343791e+06</td>\n",
              "    </tr>\n",
              "    <tr>\n",
              "      <th>min</th>\n",
              "      <td>0.000000</td>\n",
              "      <td>1.000000</td>\n",
              "      <td>1.000000</td>\n",
              "      <td>8.747247e+08</td>\n",
              "    </tr>\n",
              "    <tr>\n",
              "      <th>25%</th>\n",
              "      <td>254.000000</td>\n",
              "      <td>175.000000</td>\n",
              "      <td>3.000000</td>\n",
              "      <td>8.794487e+08</td>\n",
              "    </tr>\n",
              "    <tr>\n",
              "      <th>50%</th>\n",
              "      <td>447.000000</td>\n",
              "      <td>322.000000</td>\n",
              "      <td>4.000000</td>\n",
              "      <td>8.828269e+08</td>\n",
              "    </tr>\n",
              "    <tr>\n",
              "      <th>75%</th>\n",
              "      <td>682.000000</td>\n",
              "      <td>631.000000</td>\n",
              "      <td>4.000000</td>\n",
              "      <td>8.882600e+08</td>\n",
              "    </tr>\n",
              "    <tr>\n",
              "      <th>max</th>\n",
              "      <td>943.000000</td>\n",
              "      <td>1682.000000</td>\n",
              "      <td>5.000000</td>\n",
              "      <td>8.932866e+08</td>\n",
              "    </tr>\n",
              "  </tbody>\n",
              "</table>\n",
              "</div>\n",
              "      <button class=\"colab-df-convert\" onclick=\"convertToInteractive('df-a2fd81e7-c2c4-4575-a853-a9e14c8788af')\"\n",
              "              title=\"Convert this dataframe to an interactive table.\"\n",
              "              style=\"display:none;\">\n",
              "        \n",
              "  <svg xmlns=\"http://www.w3.org/2000/svg\" height=\"24px\"viewBox=\"0 0 24 24\"\n",
              "       width=\"24px\">\n",
              "    <path d=\"M0 0h24v24H0V0z\" fill=\"none\"/>\n",
              "    <path d=\"M18.56 5.44l.94 2.06.94-2.06 2.06-.94-2.06-.94-.94-2.06-.94 2.06-2.06.94zm-11 1L8.5 8.5l.94-2.06 2.06-.94-2.06-.94L8.5 2.5l-.94 2.06-2.06.94zm10 10l.94 2.06.94-2.06 2.06-.94-2.06-.94-.94-2.06-.94 2.06-2.06.94z\"/><path d=\"M17.41 7.96l-1.37-1.37c-.4-.4-.92-.59-1.43-.59-.52 0-1.04.2-1.43.59L10.3 9.45l-7.72 7.72c-.78.78-.78 2.05 0 2.83L4 21.41c.39.39.9.59 1.41.59.51 0 1.02-.2 1.41-.59l7.78-7.78 2.81-2.81c.8-.78.8-2.07 0-2.86zM5.41 20L4 18.59l7.72-7.72 1.47 1.35L5.41 20z\"/>\n",
              "  </svg>\n",
              "      </button>\n",
              "      \n",
              "  <style>\n",
              "    .colab-df-container {\n",
              "      display:flex;\n",
              "      flex-wrap:wrap;\n",
              "      gap: 12px;\n",
              "    }\n",
              "\n",
              "    .colab-df-convert {\n",
              "      background-color: #E8F0FE;\n",
              "      border: none;\n",
              "      border-radius: 50%;\n",
              "      cursor: pointer;\n",
              "      display: none;\n",
              "      fill: #1967D2;\n",
              "      height: 32px;\n",
              "      padding: 0 0 0 0;\n",
              "      width: 32px;\n",
              "    }\n",
              "\n",
              "    .colab-df-convert:hover {\n",
              "      background-color: #E2EBFA;\n",
              "      box-shadow: 0px 1px 2px rgba(60, 64, 67, 0.3), 0px 1px 3px 1px rgba(60, 64, 67, 0.15);\n",
              "      fill: #174EA6;\n",
              "    }\n",
              "\n",
              "    [theme=dark] .colab-df-convert {\n",
              "      background-color: #3B4455;\n",
              "      fill: #D2E3FC;\n",
              "    }\n",
              "\n",
              "    [theme=dark] .colab-df-convert:hover {\n",
              "      background-color: #434B5C;\n",
              "      box-shadow: 0px 1px 3px 1px rgba(0, 0, 0, 0.15);\n",
              "      filter: drop-shadow(0px 1px 2px rgba(0, 0, 0, 0.3));\n",
              "      fill: #FFFFFF;\n",
              "    }\n",
              "  </style>\n",
              "\n",
              "      <script>\n",
              "        const buttonEl =\n",
              "          document.querySelector('#df-a2fd81e7-c2c4-4575-a853-a9e14c8788af button.colab-df-convert');\n",
              "        buttonEl.style.display =\n",
              "          google.colab.kernel.accessAllowed ? 'block' : 'none';\n",
              "\n",
              "        async function convertToInteractive(key) {\n",
              "          const element = document.querySelector('#df-a2fd81e7-c2c4-4575-a853-a9e14c8788af');\n",
              "          const dataTable =\n",
              "            await google.colab.kernel.invokeFunction('convertToInteractive',\n",
              "                                                     [key], {});\n",
              "          if (!dataTable) return;\n",
              "\n",
              "          const docLinkHtml = 'Like what you see? Visit the ' +\n",
              "            '<a target=\"_blank\" href=https://colab.research.google.com/notebooks/data_table.ipynb>data table notebook</a>'\n",
              "            + ' to learn more about interactive tables.';\n",
              "          element.innerHTML = '';\n",
              "          dataTable['output_type'] = 'display_data';\n",
              "          await google.colab.output.renderOutput(dataTable, element);\n",
              "          const docLink = document.createElement('div');\n",
              "          docLink.innerHTML = docLinkHtml;\n",
              "          element.appendChild(docLink);\n",
              "        }\n",
              "      </script>\n",
              "    </div>\n",
              "  </div>\n",
              "  "
            ]
          },
          "metadata": {},
          "execution_count": 12
        }
      ]
    },
    {
      "cell_type": "markdown",
      "source": [
        "Dari output di atas, diketahui bahwa nilai maksimum rating adalah 5 dan nilai minimumnya adalah 1. Artinya, skala rating berkisar antara 1 hingga 5. \n",
        "\n",
        "Untuk melihat berapa pengguna yang memberikan rating, jumlah movie, dan jumlah rating, jalankan kode berikut."
      ],
      "metadata": {
        "id": "SeI5dWklawQR"
      }
    },
    {
      "cell_type": "code",
      "source": [
        "print('Jumlah user_id: ', len(df.user_id.unique()))\n",
        "print('Jumlah item_id: ', len(df.item_id.unique()))\n",
        "print('Jumlah data rating: ', len(df))"
      ],
      "metadata": {
        "colab": {
          "base_uri": "https://localhost:8080/"
        },
        "id": "-BDHjYBFY8uH",
        "outputId": "7d3a6f75-82bd-410e-8efb-31b8f18827d7"
      },
      "execution_count": 13,
      "outputs": [
        {
          "output_type": "stream",
          "name": "stdout",
          "text": [
            "Jumlah user_id:  944\n",
            "Jumlah item_id:  1682\n",
            "Jumlah data rating:  100003\n"
          ]
        }
      ]
    },
    {
      "cell_type": "code",
      "source": [
        "movie"
      ],
      "metadata": {
        "colab": {
          "base_uri": "https://localhost:8080/",
          "height": 424
        },
        "id": "zsoROq7TkJKA",
        "outputId": "b6d35b1d-39a8-4107-e944-dd5dad67eb5b"
      },
      "execution_count": 14,
      "outputs": [
        {
          "output_type": "execute_result",
          "data": {
            "text/plain": [
              "      item_id                                      title\n",
              "0           1                           Toy Story (1995)\n",
              "1           2                           GoldenEye (1995)\n",
              "2           3                          Four Rooms (1995)\n",
              "3           4                          Get Shorty (1995)\n",
              "4           5                             Copycat (1995)\n",
              "...       ...                                        ...\n",
              "1677     1678                          Mat' i syn (1997)\n",
              "1678     1679                           B. Monkey (1998)\n",
              "1679     1680                       Sliding Doors (1998)\n",
              "1680     1681                        You So Crazy (1994)\n",
              "1681     1682  Scream of Stone (Schrei aus Stein) (1991)\n",
              "\n",
              "[1682 rows x 2 columns]"
            ],
            "text/html": [
              "\n",
              "  <div id=\"df-34c58809-f9e7-4aee-86db-83fac8ece1eb\">\n",
              "    <div class=\"colab-df-container\">\n",
              "      <div>\n",
              "<style scoped>\n",
              "    .dataframe tbody tr th:only-of-type {\n",
              "        vertical-align: middle;\n",
              "    }\n",
              "\n",
              "    .dataframe tbody tr th {\n",
              "        vertical-align: top;\n",
              "    }\n",
              "\n",
              "    .dataframe thead th {\n",
              "        text-align: right;\n",
              "    }\n",
              "</style>\n",
              "<table border=\"1\" class=\"dataframe\">\n",
              "  <thead>\n",
              "    <tr style=\"text-align: right;\">\n",
              "      <th></th>\n",
              "      <th>item_id</th>\n",
              "      <th>title</th>\n",
              "    </tr>\n",
              "  </thead>\n",
              "  <tbody>\n",
              "    <tr>\n",
              "      <th>0</th>\n",
              "      <td>1</td>\n",
              "      <td>Toy Story (1995)</td>\n",
              "    </tr>\n",
              "    <tr>\n",
              "      <th>1</th>\n",
              "      <td>2</td>\n",
              "      <td>GoldenEye (1995)</td>\n",
              "    </tr>\n",
              "    <tr>\n",
              "      <th>2</th>\n",
              "      <td>3</td>\n",
              "      <td>Four Rooms (1995)</td>\n",
              "    </tr>\n",
              "    <tr>\n",
              "      <th>3</th>\n",
              "      <td>4</td>\n",
              "      <td>Get Shorty (1995)</td>\n",
              "    </tr>\n",
              "    <tr>\n",
              "      <th>4</th>\n",
              "      <td>5</td>\n",
              "      <td>Copycat (1995)</td>\n",
              "    </tr>\n",
              "    <tr>\n",
              "      <th>...</th>\n",
              "      <td>...</td>\n",
              "      <td>...</td>\n",
              "    </tr>\n",
              "    <tr>\n",
              "      <th>1677</th>\n",
              "      <td>1678</td>\n",
              "      <td>Mat' i syn (1997)</td>\n",
              "    </tr>\n",
              "    <tr>\n",
              "      <th>1678</th>\n",
              "      <td>1679</td>\n",
              "      <td>B. Monkey (1998)</td>\n",
              "    </tr>\n",
              "    <tr>\n",
              "      <th>1679</th>\n",
              "      <td>1680</td>\n",
              "      <td>Sliding Doors (1998)</td>\n",
              "    </tr>\n",
              "    <tr>\n",
              "      <th>1680</th>\n",
              "      <td>1681</td>\n",
              "      <td>You So Crazy (1994)</td>\n",
              "    </tr>\n",
              "    <tr>\n",
              "      <th>1681</th>\n",
              "      <td>1682</td>\n",
              "      <td>Scream of Stone (Schrei aus Stein) (1991)</td>\n",
              "    </tr>\n",
              "  </tbody>\n",
              "</table>\n",
              "<p>1682 rows × 2 columns</p>\n",
              "</div>\n",
              "      <button class=\"colab-df-convert\" onclick=\"convertToInteractive('df-34c58809-f9e7-4aee-86db-83fac8ece1eb')\"\n",
              "              title=\"Convert this dataframe to an interactive table.\"\n",
              "              style=\"display:none;\">\n",
              "        \n",
              "  <svg xmlns=\"http://www.w3.org/2000/svg\" height=\"24px\"viewBox=\"0 0 24 24\"\n",
              "       width=\"24px\">\n",
              "    <path d=\"M0 0h24v24H0V0z\" fill=\"none\"/>\n",
              "    <path d=\"M18.56 5.44l.94 2.06.94-2.06 2.06-.94-2.06-.94-.94-2.06-.94 2.06-2.06.94zm-11 1L8.5 8.5l.94-2.06 2.06-.94-2.06-.94L8.5 2.5l-.94 2.06-2.06.94zm10 10l.94 2.06.94-2.06 2.06-.94-2.06-.94-.94-2.06-.94 2.06-2.06.94z\"/><path d=\"M17.41 7.96l-1.37-1.37c-.4-.4-.92-.59-1.43-.59-.52 0-1.04.2-1.43.59L10.3 9.45l-7.72 7.72c-.78.78-.78 2.05 0 2.83L4 21.41c.39.39.9.59 1.41.59.51 0 1.02-.2 1.41-.59l7.78-7.78 2.81-2.81c.8-.78.8-2.07 0-2.86zM5.41 20L4 18.59l7.72-7.72 1.47 1.35L5.41 20z\"/>\n",
              "  </svg>\n",
              "      </button>\n",
              "      \n",
              "  <style>\n",
              "    .colab-df-container {\n",
              "      display:flex;\n",
              "      flex-wrap:wrap;\n",
              "      gap: 12px;\n",
              "    }\n",
              "\n",
              "    .colab-df-convert {\n",
              "      background-color: #E8F0FE;\n",
              "      border: none;\n",
              "      border-radius: 50%;\n",
              "      cursor: pointer;\n",
              "      display: none;\n",
              "      fill: #1967D2;\n",
              "      height: 32px;\n",
              "      padding: 0 0 0 0;\n",
              "      width: 32px;\n",
              "    }\n",
              "\n",
              "    .colab-df-convert:hover {\n",
              "      background-color: #E2EBFA;\n",
              "      box-shadow: 0px 1px 2px rgba(60, 64, 67, 0.3), 0px 1px 3px 1px rgba(60, 64, 67, 0.15);\n",
              "      fill: #174EA6;\n",
              "    }\n",
              "\n",
              "    [theme=dark] .colab-df-convert {\n",
              "      background-color: #3B4455;\n",
              "      fill: #D2E3FC;\n",
              "    }\n",
              "\n",
              "    [theme=dark] .colab-df-convert:hover {\n",
              "      background-color: #434B5C;\n",
              "      box-shadow: 0px 1px 3px 1px rgba(0, 0, 0, 0.15);\n",
              "      filter: drop-shadow(0px 1px 2px rgba(0, 0, 0, 0.3));\n",
              "      fill: #FFFFFF;\n",
              "    }\n",
              "  </style>\n",
              "\n",
              "      <script>\n",
              "        const buttonEl =\n",
              "          document.querySelector('#df-34c58809-f9e7-4aee-86db-83fac8ece1eb button.colab-df-convert');\n",
              "        buttonEl.style.display =\n",
              "          google.colab.kernel.accessAllowed ? 'block' : 'none';\n",
              "\n",
              "        async function convertToInteractive(key) {\n",
              "          const element = document.querySelector('#df-34c58809-f9e7-4aee-86db-83fac8ece1eb');\n",
              "          const dataTable =\n",
              "            await google.colab.kernel.invokeFunction('convertToInteractive',\n",
              "                                                     [key], {});\n",
              "          if (!dataTable) return;\n",
              "\n",
              "          const docLinkHtml = 'Like what you see? Visit the ' +\n",
              "            '<a target=\"_blank\" href=https://colab.research.google.com/notebooks/data_table.ipynb>data table notebook</a>'\n",
              "            + ' to learn more about interactive tables.';\n",
              "          element.innerHTML = '';\n",
              "          dataTable['output_type'] = 'display_data';\n",
              "          await google.colab.output.renderOutput(dataTable, element);\n",
              "          const docLink = document.createElement('div');\n",
              "          docLink.innerHTML = docLinkHtml;\n",
              "          element.appendChild(docLink);\n",
              "        }\n",
              "      </script>\n",
              "    </div>\n",
              "  </div>\n",
              "  "
            ]
          },
          "metadata": {},
          "execution_count": 14
        }
      ]
    },
    {
      "cell_type": "markdown",
      "source": [
        "Untuk data movie memiliki 1682 judul movie dan 2 kolom yang terdiri dari id movie dan judul movie."
      ],
      "metadata": {
        "id": "2i4sT5qZmOtl"
      }
    },
    {
      "cell_type": "markdown",
      "source": [
        "## Data Preparation"
      ],
      "metadata": {
        "id": "g0yrGVl8bB4x"
      }
    },
    {
      "cell_type": "markdown",
      "source": [
        "Pada tahap ini, Anda perlu melakukan persiapan data untuk menyandikan (encode) fitur 'user_id' dan 'item_id' ke dalam indeks integer."
      ],
      "metadata": {
        "id": "KvEHCdlhbDzv"
      }
    },
    {
      "cell_type": "code",
      "source": [
        "# Mengubah user_id menjadi list tanpa nilai yang sama\n",
        "user_ids = df['user_id'].unique().tolist()\n",
        "print('list user_id: ', user_ids)\n",
        " \n",
        "# Melakukan encoding user_id\n",
        "user_to_user_encoded = {x: i for i, x in enumerate(user_ids)}\n",
        "print('encoded user_id : ', user_to_user_encoded)\n",
        " \n",
        "# Melakukan proses encoding angka ke ke user_id\n",
        "user_encoded_to_user = {i: x for i, x in enumerate(user_ids)}\n",
        "print('encoded angka ke user_id: ', user_encoded_to_user)"
      ],
      "metadata": {
        "colab": {
          "base_uri": "https://localhost:8080/"
        },
        "id": "fEr43-MhbrYo",
        "outputId": "62747202-ea1d-4db1-bf5f-599a11d144ad"
      },
      "execution_count": 15,
      "outputs": [
        {
          "output_type": "stream",
          "name": "stdout",
          "text": [
            "list user_id:  [0, 196, 186, 22, 244, 166, 298, 115, 253, 305, 6, 62, 286, 200, 210, 224, 303, 122, 194, 291, 234, 119, 167, 299, 308, 95, 38, 102, 63, 160, 50, 301, 225, 290, 97, 157, 181, 278, 276, 7, 10, 284, 201, 287, 246, 242, 249, 99, 178, 251, 81, 260, 25, 59, 72, 87, 42, 292, 20, 13, 138, 60, 57, 223, 189, 243, 92, 241, 254, 293, 127, 222, 267, 11, 8, 162, 279, 145, 28, 135, 32, 90, 216, 250, 271, 265, 198, 168, 110, 58, 237, 94, 128, 44, 264, 41, 82, 262, 174, 43, 84, 269, 259, 85, 213, 121, 49, 155, 68, 172, 19, 268, 5, 80, 66, 18, 26, 130, 256, 1, 56, 15, 207, 232, 52, 161, 148, 125, 83, 272, 151, 54, 16, 91, 294, 229, 36, 70, 14, 295, 233, 214, 192, 100, 307, 297, 193, 113, 275, 219, 218, 123, 158, 302, 23, 296, 33, 154, 77, 270, 187, 170, 101, 184, 112, 133, 215, 69, 104, 240, 144, 191, 61, 142, 177, 203, 21, 197, 134, 180, 236, 263, 109, 64, 114, 239, 117, 65, 137, 257, 111, 285, 96, 116, 73, 221, 235, 164, 281, 182, 129, 45, 131, 230, 126, 231, 280, 288, 152, 217, 79, 75, 245, 282, 78, 118, 283, 171, 107, 226, 306, 173, 185, 150, 274, 188, 48, 311, 165, 208, 2, 205, 248, 93, 159, 146, 29, 156, 37, 141, 195, 108, 47, 255, 89, 140, 190, 24, 17, 313, 53, 124, 149, 176, 106, 312, 175, 153, 220, 143, 199, 202, 277, 206, 76, 314, 136, 179, 4, 304, 3, 227, 252, 212, 310, 35, 147, 105, 34, 71, 51, 204, 315, 31, 316, 103, 318, 30, 120, 46, 289, 209, 261, 88, 9, 247, 321, 266, 74, 238, 319, 323, 67, 211, 98, 12, 40, 258, 228, 325, 320, 326, 327, 183, 328, 322, 330, 27, 331, 332, 329, 86, 139, 300, 163, 333, 334, 39, 324, 132, 336, 335, 169, 338, 339, 309, 342, 340, 317, 341, 343, 344, 345, 346, 347, 273, 55, 349, 348, 354, 351, 358, 352, 360, 363, 355, 362, 357, 356, 361, 365, 350, 367, 368, 371, 373, 370, 374, 372, 337, 378, 366, 377, 375, 359, 379, 380, 381, 385, 382, 387, 364, 369, 388, 386, 389, 383, 390, 393, 392, 376, 394, 391, 398, 397, 399, 396, 401, 402, 384, 395, 353, 403, 405, 400, 406, 407, 409, 404, 413, 416, 408, 410, 411, 417, 412, 420, 422, 425, 419, 415, 423, 429, 428, 427, 418, 424, 432, 421, 435, 433, 426, 436, 430, 434, 437, 438, 431, 442, 440, 445, 447, 449, 450, 446, 439, 451, 452, 454, 453, 414, 455, 444, 448, 457, 456, 458, 462, 459, 460, 461, 467, 468, 466, 472, 465, 463, 471, 474, 469, 464, 476, 478, 473, 470, 480, 441, 479, 484, 486, 487, 482, 481, 492, 493, 490, 489, 483, 496, 494, 495, 477, 497, 488, 498, 499, 491, 500, 502, 503, 504, 505, 506, 443, 507, 514, 508, 511, 515, 512, 513, 475, 523, 518, 509, 516, 510, 524, 501, 525, 521, 520, 519, 528, 532, 530, 531, 529, 517, 527, 485, 533, 535, 536, 526, 537, 534, 541, 538, 542, 545, 539, 547, 543, 548, 546, 522, 551, 544, 553, 552, 540, 554, 550, 556, 559, 560, 561, 563, 566, 557, 558, 564, 565, 573, 549, 567, 569, 562, 576, 577, 579, 574, 555, 572, 575, 584, 588, 587, 568, 586, 585, 582, 591, 581, 592, 580, 590, 593, 583, 596, 570, 599, 589, 594, 597, 578, 601, 602, 600, 605, 603, 595, 606, 608, 607, 610, 611, 617, 618, 614, 609, 615, 616, 620, 571, 619, 613, 622, 621, 604, 624, 612, 627, 623, 628, 625, 629, 633, 632, 631, 634, 639, 630, 642, 637, 640, 626, 643, 598, 638, 635, 644, 636, 645, 648, 647, 650, 651, 654, 653, 655, 649, 658, 656, 660, 659, 646, 663, 664, 657, 665, 666, 661, 662, 667, 641, 668, 673, 671, 669, 676, 674, 652, 677, 682, 679, 684, 685, 683, 691, 672, 692, 690, 689, 686, 693, 688, 697, 698, 670, 694, 680, 705, 701, 699, 704, 707, 700, 687, 695, 675, 708, 709, 711, 710, 712, 715, 713, 716, 681, 678, 719, 702, 721, 714, 717, 718, 696, 722, 724, 727, 725, 706, 720, 729, 726, 728, 703, 738, 736, 734, 730, 743, 742, 737, 733, 745, 740, 735, 747, 723, 739, 749, 748, 746, 731, 750, 741, 751, 756, 757, 752, 758, 732, 762, 744, 754, 753, 763, 764, 767, 769, 755, 771, 768, 773, 765, 772, 766, 774, 760, 761, 777, 759, 776, 780, 779, 778, 782, 786, 784, 770, 788, 789, 790, 787, 783, 785, 794, 781, 796, 795, 793, 798, 791, 802, 800, 804, 803, 775, 792, 799, 805, 806, 807, 797, 801, 809, 815, 817, 821, 818, 814, 812, 823, 825, 827, 829, 811, 830, 826, 831, 819, 828, 808, 835, 833, 836, 816, 838, 839, 840, 832, 810, 844, 843, 834, 846, 837, 813, 842, 847, 848, 822, 852, 851, 849, 854, 850, 858, 853, 855, 824, 845, 841, 859, 862, 856, 820, 863, 860, 857, 864, 865, 868, 867, 861, 870, 871, 875, 876, 872, 866, 877, 873, 880, 878, 869, 881, 879, 883, 882, 884, 886, 885, 889, 874, 892, 890, 893, 887, 891, 894, 896, 897, 901, 899, 903, 904, 907, 905, 902, 898, 895, 906, 900, 908, 916, 911, 912, 914, 918, 919, 921, 910, 913, 915, 922, 923, 928, 927, 924, 929, 931, 917, 932, 909, 934, 933, 935, 938, 940, 888, 925, 942, 937, 926, 943, 939, 936, 930, 920, 941]\n",
            "encoded user_id :  {0: 0, 196: 1, 186: 2, 22: 3, 244: 4, 166: 5, 298: 6, 115: 7, 253: 8, 305: 9, 6: 10, 62: 11, 286: 12, 200: 13, 210: 14, 224: 15, 303: 16, 122: 17, 194: 18, 291: 19, 234: 20, 119: 21, 167: 22, 299: 23, 308: 24, 95: 25, 38: 26, 102: 27, 63: 28, 160: 29, 50: 30, 301: 31, 225: 32, 290: 33, 97: 34, 157: 35, 181: 36, 278: 37, 276: 38, 7: 39, 10: 40, 284: 41, 201: 42, 287: 43, 246: 44, 242: 45, 249: 46, 99: 47, 178: 48, 251: 49, 81: 50, 260: 51, 25: 52, 59: 53, 72: 54, 87: 55, 42: 56, 292: 57, 20: 58, 13: 59, 138: 60, 60: 61, 57: 62, 223: 63, 189: 64, 243: 65, 92: 66, 241: 67, 254: 68, 293: 69, 127: 70, 222: 71, 267: 72, 11: 73, 8: 74, 162: 75, 279: 76, 145: 77, 28: 78, 135: 79, 32: 80, 90: 81, 216: 82, 250: 83, 271: 84, 265: 85, 198: 86, 168: 87, 110: 88, 58: 89, 237: 90, 94: 91, 128: 92, 44: 93, 264: 94, 41: 95, 82: 96, 262: 97, 174: 98, 43: 99, 84: 100, 269: 101, 259: 102, 85: 103, 213: 104, 121: 105, 49: 106, 155: 107, 68: 108, 172: 109, 19: 110, 268: 111, 5: 112, 80: 113, 66: 114, 18: 115, 26: 116, 130: 117, 256: 118, 1: 119, 56: 120, 15: 121, 207: 122, 232: 123, 52: 124, 161: 125, 148: 126, 125: 127, 83: 128, 272: 129, 151: 130, 54: 131, 16: 132, 91: 133, 294: 134, 229: 135, 36: 136, 70: 137, 14: 138, 295: 139, 233: 140, 214: 141, 192: 142, 100: 143, 307: 144, 297: 145, 193: 146, 113: 147, 275: 148, 219: 149, 218: 150, 123: 151, 158: 152, 302: 153, 23: 154, 296: 155, 33: 156, 154: 157, 77: 158, 270: 159, 187: 160, 170: 161, 101: 162, 184: 163, 112: 164, 133: 165, 215: 166, 69: 167, 104: 168, 240: 169, 144: 170, 191: 171, 61: 172, 142: 173, 177: 174, 203: 175, 21: 176, 197: 177, 134: 178, 180: 179, 236: 180, 263: 181, 109: 182, 64: 183, 114: 184, 239: 185, 117: 186, 65: 187, 137: 188, 257: 189, 111: 190, 285: 191, 96: 192, 116: 193, 73: 194, 221: 195, 235: 196, 164: 197, 281: 198, 182: 199, 129: 200, 45: 201, 131: 202, 230: 203, 126: 204, 231: 205, 280: 206, 288: 207, 152: 208, 217: 209, 79: 210, 75: 211, 245: 212, 282: 213, 78: 214, 118: 215, 283: 216, 171: 217, 107: 218, 226: 219, 306: 220, 173: 221, 185: 222, 150: 223, 274: 224, 188: 225, 48: 226, 311: 227, 165: 228, 208: 229, 2: 230, 205: 231, 248: 232, 93: 233, 159: 234, 146: 235, 29: 236, 156: 237, 37: 238, 141: 239, 195: 240, 108: 241, 47: 242, 255: 243, 89: 244, 140: 245, 190: 246, 24: 247, 17: 248, 313: 249, 53: 250, 124: 251, 149: 252, 176: 253, 106: 254, 312: 255, 175: 256, 153: 257, 220: 258, 143: 259, 199: 260, 202: 261, 277: 262, 206: 263, 76: 264, 314: 265, 136: 266, 179: 267, 4: 268, 304: 269, 3: 270, 227: 271, 252: 272, 212: 273, 310: 274, 35: 275, 147: 276, 105: 277, 34: 278, 71: 279, 51: 280, 204: 281, 315: 282, 31: 283, 316: 284, 103: 285, 318: 286, 30: 287, 120: 288, 46: 289, 289: 290, 209: 291, 261: 292, 88: 293, 9: 294, 247: 295, 321: 296, 266: 297, 74: 298, 238: 299, 319: 300, 323: 301, 67: 302, 211: 303, 98: 304, 12: 305, 40: 306, 258: 307, 228: 308, 325: 309, 320: 310, 326: 311, 327: 312, 183: 313, 328: 314, 322: 315, 330: 316, 27: 317, 331: 318, 332: 319, 329: 320, 86: 321, 139: 322, 300: 323, 163: 324, 333: 325, 334: 326, 39: 327, 324: 328, 132: 329, 336: 330, 335: 331, 169: 332, 338: 333, 339: 334, 309: 335, 342: 336, 340: 337, 317: 338, 341: 339, 343: 340, 344: 341, 345: 342, 346: 343, 347: 344, 273: 345, 55: 346, 349: 347, 348: 348, 354: 349, 351: 350, 358: 351, 352: 352, 360: 353, 363: 354, 355: 355, 362: 356, 357: 357, 356: 358, 361: 359, 365: 360, 350: 361, 367: 362, 368: 363, 371: 364, 373: 365, 370: 366, 374: 367, 372: 368, 337: 369, 378: 370, 366: 371, 377: 372, 375: 373, 359: 374, 379: 375, 380: 376, 381: 377, 385: 378, 382: 379, 387: 380, 364: 381, 369: 382, 388: 383, 386: 384, 389: 385, 383: 386, 390: 387, 393: 388, 392: 389, 376: 390, 394: 391, 391: 392, 398: 393, 397: 394, 399: 395, 396: 396, 401: 397, 402: 398, 384: 399, 395: 400, 353: 401, 403: 402, 405: 403, 400: 404, 406: 405, 407: 406, 409: 407, 404: 408, 413: 409, 416: 410, 408: 411, 410: 412, 411: 413, 417: 414, 412: 415, 420: 416, 422: 417, 425: 418, 419: 419, 415: 420, 423: 421, 429: 422, 428: 423, 427: 424, 418: 425, 424: 426, 432: 427, 421: 428, 435: 429, 433: 430, 426: 431, 436: 432, 430: 433, 434: 434, 437: 435, 438: 436, 431: 437, 442: 438, 440: 439, 445: 440, 447: 441, 449: 442, 450: 443, 446: 444, 439: 445, 451: 446, 452: 447, 454: 448, 453: 449, 414: 450, 455: 451, 444: 452, 448: 453, 457: 454, 456: 455, 458: 456, 462: 457, 459: 458, 460: 459, 461: 460, 467: 461, 468: 462, 466: 463, 472: 464, 465: 465, 463: 466, 471: 467, 474: 468, 469: 469, 464: 470, 476: 471, 478: 472, 473: 473, 470: 474, 480: 475, 441: 476, 479: 477, 484: 478, 486: 479, 487: 480, 482: 481, 481: 482, 492: 483, 493: 484, 490: 485, 489: 486, 483: 487, 496: 488, 494: 489, 495: 490, 477: 491, 497: 492, 488: 493, 498: 494, 499: 495, 491: 496, 500: 497, 502: 498, 503: 499, 504: 500, 505: 501, 506: 502, 443: 503, 507: 504, 514: 505, 508: 506, 511: 507, 515: 508, 512: 509, 513: 510, 475: 511, 523: 512, 518: 513, 509: 514, 516: 515, 510: 516, 524: 517, 501: 518, 525: 519, 521: 520, 520: 521, 519: 522, 528: 523, 532: 524, 530: 525, 531: 526, 529: 527, 517: 528, 527: 529, 485: 530, 533: 531, 535: 532, 536: 533, 526: 534, 537: 535, 534: 536, 541: 537, 538: 538, 542: 539, 545: 540, 539: 541, 547: 542, 543: 543, 548: 544, 546: 545, 522: 546, 551: 547, 544: 548, 553: 549, 552: 550, 540: 551, 554: 552, 550: 553, 556: 554, 559: 555, 560: 556, 561: 557, 563: 558, 566: 559, 557: 560, 558: 561, 564: 562, 565: 563, 573: 564, 549: 565, 567: 566, 569: 567, 562: 568, 576: 569, 577: 570, 579: 571, 574: 572, 555: 573, 572: 574, 575: 575, 584: 576, 588: 577, 587: 578, 568: 579, 586: 580, 585: 581, 582: 582, 591: 583, 581: 584, 592: 585, 580: 586, 590: 587, 593: 588, 583: 589, 596: 590, 570: 591, 599: 592, 589: 593, 594: 594, 597: 595, 578: 596, 601: 597, 602: 598, 600: 599, 605: 600, 603: 601, 595: 602, 606: 603, 608: 604, 607: 605, 610: 606, 611: 607, 617: 608, 618: 609, 614: 610, 609: 611, 615: 612, 616: 613, 620: 614, 571: 615, 619: 616, 613: 617, 622: 618, 621: 619, 604: 620, 624: 621, 612: 622, 627: 623, 623: 624, 628: 625, 625: 626, 629: 627, 633: 628, 632: 629, 631: 630, 634: 631, 639: 632, 630: 633, 642: 634, 637: 635, 640: 636, 626: 637, 643: 638, 598: 639, 638: 640, 635: 641, 644: 642, 636: 643, 645: 644, 648: 645, 647: 646, 650: 647, 651: 648, 654: 649, 653: 650, 655: 651, 649: 652, 658: 653, 656: 654, 660: 655, 659: 656, 646: 657, 663: 658, 664: 659, 657: 660, 665: 661, 666: 662, 661: 663, 662: 664, 667: 665, 641: 666, 668: 667, 673: 668, 671: 669, 669: 670, 676: 671, 674: 672, 652: 673, 677: 674, 682: 675, 679: 676, 684: 677, 685: 678, 683: 679, 691: 680, 672: 681, 692: 682, 690: 683, 689: 684, 686: 685, 693: 686, 688: 687, 697: 688, 698: 689, 670: 690, 694: 691, 680: 692, 705: 693, 701: 694, 699: 695, 704: 696, 707: 697, 700: 698, 687: 699, 695: 700, 675: 701, 708: 702, 709: 703, 711: 704, 710: 705, 712: 706, 715: 707, 713: 708, 716: 709, 681: 710, 678: 711, 719: 712, 702: 713, 721: 714, 714: 715, 717: 716, 718: 717, 696: 718, 722: 719, 724: 720, 727: 721, 725: 722, 706: 723, 720: 724, 729: 725, 726: 726, 728: 727, 703: 728, 738: 729, 736: 730, 734: 731, 730: 732, 743: 733, 742: 734, 737: 735, 733: 736, 745: 737, 740: 738, 735: 739, 747: 740, 723: 741, 739: 742, 749: 743, 748: 744, 746: 745, 731: 746, 750: 747, 741: 748, 751: 749, 756: 750, 757: 751, 752: 752, 758: 753, 732: 754, 762: 755, 744: 756, 754: 757, 753: 758, 763: 759, 764: 760, 767: 761, 769: 762, 755: 763, 771: 764, 768: 765, 773: 766, 765: 767, 772: 768, 766: 769, 774: 770, 760: 771, 761: 772, 777: 773, 759: 774, 776: 775, 780: 776, 779: 777, 778: 778, 782: 779, 786: 780, 784: 781, 770: 782, 788: 783, 789: 784, 790: 785, 787: 786, 783: 787, 785: 788, 794: 789, 781: 790, 796: 791, 795: 792, 793: 793, 798: 794, 791: 795, 802: 796, 800: 797, 804: 798, 803: 799, 775: 800, 792: 801, 799: 802, 805: 803, 806: 804, 807: 805, 797: 806, 801: 807, 809: 808, 815: 809, 817: 810, 821: 811, 818: 812, 814: 813, 812: 814, 823: 815, 825: 816, 827: 817, 829: 818, 811: 819, 830: 820, 826: 821, 831: 822, 819: 823, 828: 824, 808: 825, 835: 826, 833: 827, 836: 828, 816: 829, 838: 830, 839: 831, 840: 832, 832: 833, 810: 834, 844: 835, 843: 836, 834: 837, 846: 838, 837: 839, 813: 840, 842: 841, 847: 842, 848: 843, 822: 844, 852: 845, 851: 846, 849: 847, 854: 848, 850: 849, 858: 850, 853: 851, 855: 852, 824: 853, 845: 854, 841: 855, 859: 856, 862: 857, 856: 858, 820: 859, 863: 860, 860: 861, 857: 862, 864: 863, 865: 864, 868: 865, 867: 866, 861: 867, 870: 868, 871: 869, 875: 870, 876: 871, 872: 872, 866: 873, 877: 874, 873: 875, 880: 876, 878: 877, 869: 878, 881: 879, 879: 880, 883: 881, 882: 882, 884: 883, 886: 884, 885: 885, 889: 886, 874: 887, 892: 888, 890: 889, 893: 890, 887: 891, 891: 892, 894: 893, 896: 894, 897: 895, 901: 896, 899: 897, 903: 898, 904: 899, 907: 900, 905: 901, 902: 902, 898: 903, 895: 904, 906: 905, 900: 906, 908: 907, 916: 908, 911: 909, 912: 910, 914: 911, 918: 912, 919: 913, 921: 914, 910: 915, 913: 916, 915: 917, 922: 918, 923: 919, 928: 920, 927: 921, 924: 922, 929: 923, 931: 924, 917: 925, 932: 926, 909: 927, 934: 928, 933: 929, 935: 930, 938: 931, 940: 932, 888: 933, 925: 934, 942: 935, 937: 936, 926: 937, 943: 938, 939: 939, 936: 940, 930: 941, 920: 942, 941: 943}\n",
            "encoded angka ke user_id:  {0: 0, 1: 196, 2: 186, 3: 22, 4: 244, 5: 166, 6: 298, 7: 115, 8: 253, 9: 305, 10: 6, 11: 62, 12: 286, 13: 200, 14: 210, 15: 224, 16: 303, 17: 122, 18: 194, 19: 291, 20: 234, 21: 119, 22: 167, 23: 299, 24: 308, 25: 95, 26: 38, 27: 102, 28: 63, 29: 160, 30: 50, 31: 301, 32: 225, 33: 290, 34: 97, 35: 157, 36: 181, 37: 278, 38: 276, 39: 7, 40: 10, 41: 284, 42: 201, 43: 287, 44: 246, 45: 242, 46: 249, 47: 99, 48: 178, 49: 251, 50: 81, 51: 260, 52: 25, 53: 59, 54: 72, 55: 87, 56: 42, 57: 292, 58: 20, 59: 13, 60: 138, 61: 60, 62: 57, 63: 223, 64: 189, 65: 243, 66: 92, 67: 241, 68: 254, 69: 293, 70: 127, 71: 222, 72: 267, 73: 11, 74: 8, 75: 162, 76: 279, 77: 145, 78: 28, 79: 135, 80: 32, 81: 90, 82: 216, 83: 250, 84: 271, 85: 265, 86: 198, 87: 168, 88: 110, 89: 58, 90: 237, 91: 94, 92: 128, 93: 44, 94: 264, 95: 41, 96: 82, 97: 262, 98: 174, 99: 43, 100: 84, 101: 269, 102: 259, 103: 85, 104: 213, 105: 121, 106: 49, 107: 155, 108: 68, 109: 172, 110: 19, 111: 268, 112: 5, 113: 80, 114: 66, 115: 18, 116: 26, 117: 130, 118: 256, 119: 1, 120: 56, 121: 15, 122: 207, 123: 232, 124: 52, 125: 161, 126: 148, 127: 125, 128: 83, 129: 272, 130: 151, 131: 54, 132: 16, 133: 91, 134: 294, 135: 229, 136: 36, 137: 70, 138: 14, 139: 295, 140: 233, 141: 214, 142: 192, 143: 100, 144: 307, 145: 297, 146: 193, 147: 113, 148: 275, 149: 219, 150: 218, 151: 123, 152: 158, 153: 302, 154: 23, 155: 296, 156: 33, 157: 154, 158: 77, 159: 270, 160: 187, 161: 170, 162: 101, 163: 184, 164: 112, 165: 133, 166: 215, 167: 69, 168: 104, 169: 240, 170: 144, 171: 191, 172: 61, 173: 142, 174: 177, 175: 203, 176: 21, 177: 197, 178: 134, 179: 180, 180: 236, 181: 263, 182: 109, 183: 64, 184: 114, 185: 239, 186: 117, 187: 65, 188: 137, 189: 257, 190: 111, 191: 285, 192: 96, 193: 116, 194: 73, 195: 221, 196: 235, 197: 164, 198: 281, 199: 182, 200: 129, 201: 45, 202: 131, 203: 230, 204: 126, 205: 231, 206: 280, 207: 288, 208: 152, 209: 217, 210: 79, 211: 75, 212: 245, 213: 282, 214: 78, 215: 118, 216: 283, 217: 171, 218: 107, 219: 226, 220: 306, 221: 173, 222: 185, 223: 150, 224: 274, 225: 188, 226: 48, 227: 311, 228: 165, 229: 208, 230: 2, 231: 205, 232: 248, 233: 93, 234: 159, 235: 146, 236: 29, 237: 156, 238: 37, 239: 141, 240: 195, 241: 108, 242: 47, 243: 255, 244: 89, 245: 140, 246: 190, 247: 24, 248: 17, 249: 313, 250: 53, 251: 124, 252: 149, 253: 176, 254: 106, 255: 312, 256: 175, 257: 153, 258: 220, 259: 143, 260: 199, 261: 202, 262: 277, 263: 206, 264: 76, 265: 314, 266: 136, 267: 179, 268: 4, 269: 304, 270: 3, 271: 227, 272: 252, 273: 212, 274: 310, 275: 35, 276: 147, 277: 105, 278: 34, 279: 71, 280: 51, 281: 204, 282: 315, 283: 31, 284: 316, 285: 103, 286: 318, 287: 30, 288: 120, 289: 46, 290: 289, 291: 209, 292: 261, 293: 88, 294: 9, 295: 247, 296: 321, 297: 266, 298: 74, 299: 238, 300: 319, 301: 323, 302: 67, 303: 211, 304: 98, 305: 12, 306: 40, 307: 258, 308: 228, 309: 325, 310: 320, 311: 326, 312: 327, 313: 183, 314: 328, 315: 322, 316: 330, 317: 27, 318: 331, 319: 332, 320: 329, 321: 86, 322: 139, 323: 300, 324: 163, 325: 333, 326: 334, 327: 39, 328: 324, 329: 132, 330: 336, 331: 335, 332: 169, 333: 338, 334: 339, 335: 309, 336: 342, 337: 340, 338: 317, 339: 341, 340: 343, 341: 344, 342: 345, 343: 346, 344: 347, 345: 273, 346: 55, 347: 349, 348: 348, 349: 354, 350: 351, 351: 358, 352: 352, 353: 360, 354: 363, 355: 355, 356: 362, 357: 357, 358: 356, 359: 361, 360: 365, 361: 350, 362: 367, 363: 368, 364: 371, 365: 373, 366: 370, 367: 374, 368: 372, 369: 337, 370: 378, 371: 366, 372: 377, 373: 375, 374: 359, 375: 379, 376: 380, 377: 381, 378: 385, 379: 382, 380: 387, 381: 364, 382: 369, 383: 388, 384: 386, 385: 389, 386: 383, 387: 390, 388: 393, 389: 392, 390: 376, 391: 394, 392: 391, 393: 398, 394: 397, 395: 399, 396: 396, 397: 401, 398: 402, 399: 384, 400: 395, 401: 353, 402: 403, 403: 405, 404: 400, 405: 406, 406: 407, 407: 409, 408: 404, 409: 413, 410: 416, 411: 408, 412: 410, 413: 411, 414: 417, 415: 412, 416: 420, 417: 422, 418: 425, 419: 419, 420: 415, 421: 423, 422: 429, 423: 428, 424: 427, 425: 418, 426: 424, 427: 432, 428: 421, 429: 435, 430: 433, 431: 426, 432: 436, 433: 430, 434: 434, 435: 437, 436: 438, 437: 431, 438: 442, 439: 440, 440: 445, 441: 447, 442: 449, 443: 450, 444: 446, 445: 439, 446: 451, 447: 452, 448: 454, 449: 453, 450: 414, 451: 455, 452: 444, 453: 448, 454: 457, 455: 456, 456: 458, 457: 462, 458: 459, 459: 460, 460: 461, 461: 467, 462: 468, 463: 466, 464: 472, 465: 465, 466: 463, 467: 471, 468: 474, 469: 469, 470: 464, 471: 476, 472: 478, 473: 473, 474: 470, 475: 480, 476: 441, 477: 479, 478: 484, 479: 486, 480: 487, 481: 482, 482: 481, 483: 492, 484: 493, 485: 490, 486: 489, 487: 483, 488: 496, 489: 494, 490: 495, 491: 477, 492: 497, 493: 488, 494: 498, 495: 499, 496: 491, 497: 500, 498: 502, 499: 503, 500: 504, 501: 505, 502: 506, 503: 443, 504: 507, 505: 514, 506: 508, 507: 511, 508: 515, 509: 512, 510: 513, 511: 475, 512: 523, 513: 518, 514: 509, 515: 516, 516: 510, 517: 524, 518: 501, 519: 525, 520: 521, 521: 520, 522: 519, 523: 528, 524: 532, 525: 530, 526: 531, 527: 529, 528: 517, 529: 527, 530: 485, 531: 533, 532: 535, 533: 536, 534: 526, 535: 537, 536: 534, 537: 541, 538: 538, 539: 542, 540: 545, 541: 539, 542: 547, 543: 543, 544: 548, 545: 546, 546: 522, 547: 551, 548: 544, 549: 553, 550: 552, 551: 540, 552: 554, 553: 550, 554: 556, 555: 559, 556: 560, 557: 561, 558: 563, 559: 566, 560: 557, 561: 558, 562: 564, 563: 565, 564: 573, 565: 549, 566: 567, 567: 569, 568: 562, 569: 576, 570: 577, 571: 579, 572: 574, 573: 555, 574: 572, 575: 575, 576: 584, 577: 588, 578: 587, 579: 568, 580: 586, 581: 585, 582: 582, 583: 591, 584: 581, 585: 592, 586: 580, 587: 590, 588: 593, 589: 583, 590: 596, 591: 570, 592: 599, 593: 589, 594: 594, 595: 597, 596: 578, 597: 601, 598: 602, 599: 600, 600: 605, 601: 603, 602: 595, 603: 606, 604: 608, 605: 607, 606: 610, 607: 611, 608: 617, 609: 618, 610: 614, 611: 609, 612: 615, 613: 616, 614: 620, 615: 571, 616: 619, 617: 613, 618: 622, 619: 621, 620: 604, 621: 624, 622: 612, 623: 627, 624: 623, 625: 628, 626: 625, 627: 629, 628: 633, 629: 632, 630: 631, 631: 634, 632: 639, 633: 630, 634: 642, 635: 637, 636: 640, 637: 626, 638: 643, 639: 598, 640: 638, 641: 635, 642: 644, 643: 636, 644: 645, 645: 648, 646: 647, 647: 650, 648: 651, 649: 654, 650: 653, 651: 655, 652: 649, 653: 658, 654: 656, 655: 660, 656: 659, 657: 646, 658: 663, 659: 664, 660: 657, 661: 665, 662: 666, 663: 661, 664: 662, 665: 667, 666: 641, 667: 668, 668: 673, 669: 671, 670: 669, 671: 676, 672: 674, 673: 652, 674: 677, 675: 682, 676: 679, 677: 684, 678: 685, 679: 683, 680: 691, 681: 672, 682: 692, 683: 690, 684: 689, 685: 686, 686: 693, 687: 688, 688: 697, 689: 698, 690: 670, 691: 694, 692: 680, 693: 705, 694: 701, 695: 699, 696: 704, 697: 707, 698: 700, 699: 687, 700: 695, 701: 675, 702: 708, 703: 709, 704: 711, 705: 710, 706: 712, 707: 715, 708: 713, 709: 716, 710: 681, 711: 678, 712: 719, 713: 702, 714: 721, 715: 714, 716: 717, 717: 718, 718: 696, 719: 722, 720: 724, 721: 727, 722: 725, 723: 706, 724: 720, 725: 729, 726: 726, 727: 728, 728: 703, 729: 738, 730: 736, 731: 734, 732: 730, 733: 743, 734: 742, 735: 737, 736: 733, 737: 745, 738: 740, 739: 735, 740: 747, 741: 723, 742: 739, 743: 749, 744: 748, 745: 746, 746: 731, 747: 750, 748: 741, 749: 751, 750: 756, 751: 757, 752: 752, 753: 758, 754: 732, 755: 762, 756: 744, 757: 754, 758: 753, 759: 763, 760: 764, 761: 767, 762: 769, 763: 755, 764: 771, 765: 768, 766: 773, 767: 765, 768: 772, 769: 766, 770: 774, 771: 760, 772: 761, 773: 777, 774: 759, 775: 776, 776: 780, 777: 779, 778: 778, 779: 782, 780: 786, 781: 784, 782: 770, 783: 788, 784: 789, 785: 790, 786: 787, 787: 783, 788: 785, 789: 794, 790: 781, 791: 796, 792: 795, 793: 793, 794: 798, 795: 791, 796: 802, 797: 800, 798: 804, 799: 803, 800: 775, 801: 792, 802: 799, 803: 805, 804: 806, 805: 807, 806: 797, 807: 801, 808: 809, 809: 815, 810: 817, 811: 821, 812: 818, 813: 814, 814: 812, 815: 823, 816: 825, 817: 827, 818: 829, 819: 811, 820: 830, 821: 826, 822: 831, 823: 819, 824: 828, 825: 808, 826: 835, 827: 833, 828: 836, 829: 816, 830: 838, 831: 839, 832: 840, 833: 832, 834: 810, 835: 844, 836: 843, 837: 834, 838: 846, 839: 837, 840: 813, 841: 842, 842: 847, 843: 848, 844: 822, 845: 852, 846: 851, 847: 849, 848: 854, 849: 850, 850: 858, 851: 853, 852: 855, 853: 824, 854: 845, 855: 841, 856: 859, 857: 862, 858: 856, 859: 820, 860: 863, 861: 860, 862: 857, 863: 864, 864: 865, 865: 868, 866: 867, 867: 861, 868: 870, 869: 871, 870: 875, 871: 876, 872: 872, 873: 866, 874: 877, 875: 873, 876: 880, 877: 878, 878: 869, 879: 881, 880: 879, 881: 883, 882: 882, 883: 884, 884: 886, 885: 885, 886: 889, 887: 874, 888: 892, 889: 890, 890: 893, 891: 887, 892: 891, 893: 894, 894: 896, 895: 897, 896: 901, 897: 899, 898: 903, 899: 904, 900: 907, 901: 905, 902: 902, 903: 898, 904: 895, 905: 906, 906: 900, 907: 908, 908: 916, 909: 911, 910: 912, 911: 914, 912: 918, 913: 919, 914: 921, 915: 910, 916: 913, 917: 915, 918: 922, 919: 923, 920: 928, 921: 927, 922: 924, 923: 929, 924: 931, 925: 917, 926: 932, 927: 909, 928: 934, 929: 933, 930: 935, 931: 938, 932: 940, 933: 888, 934: 925, 935: 942, 936: 937, 937: 926, 938: 943, 939: 939, 940: 936, 941: 930, 942: 920, 943: 941}\n"
          ]
        }
      ]
    },
    {
      "cell_type": "markdown",
      "source": [
        "Selanjutnya, lakukan hal yang sama pada fitur 'item_id'."
      ],
      "metadata": {
        "id": "d7wxTLq0cAIA"
      }
    },
    {
      "cell_type": "code",
      "source": [
        "# Mengubah item_id menjadi list tanpa nilai yang sama\n",
        "movie_ids = df['item_id'].unique().tolist()\n",
        "print('list item_id: ', movie_ids)\n",
        " \n",
        "# Melakukan proses encoding item_id\n",
        "movie_to_movie_encoded = {x: i for i, x in enumerate(movie_ids)}\n",
        "print('encoded item_id : ', movie_to_movie_encoded)\n",
        " \n",
        "# Melakukan proses encoding angka ke item_id\n",
        "movie_encoded_to_movie = {i: x for i, x in enumerate(movie_ids)}\n",
        "print('encoded angka ke item_id: ', movie_encoded_to_movie)"
      ],
      "metadata": {
        "colab": {
          "base_uri": "https://localhost:8080/"
        },
        "id": "fc8mDeM4cAnA",
        "outputId": "a5a8837f-b2a7-4b22-fc90-285e1e370538"
      },
      "execution_count": 16,
      "outputs": [
        {
          "output_type": "stream",
          "name": "stdout",
          "text": [
            "list item_id:  [50, 172, 133, 242, 302, 377, 51, 346, 474, 265, 465, 451, 86, 257, 1014, 222, 40, 29, 785, 387, 274, 1042, 1184, 392, 486, 144, 118, 1, 546, 95, 768, 277, 234, 246, 98, 193, 88, 194, 1081, 603, 796, 32, 16, 304, 979, 564, 327, 201, 1137, 241, 4, 332, 100, 432, 322, 181, 196, 679, 384, 143, 423, 515, 20, 288, 219, 526, 919, 26, 232, 427, 512, 15, 1049, 416, 165, 690, 248, 1444, 5, 229, 237, 480, 54, 366, 518, 403, 111, 625, 338, 25, 1016, 154, 275, 1153, 498, 382, 209, 23, 294, 208, 685, 328, 496, 132, 174, 96, 151, 307, 648, 21, 832, 514, 789, 485, 317, 195, 200, 385, 750, 264, 245, 135, 1147, 471, 658, 140, 379, 815, 479, 368, 1211, 1134, 836, 272, 756, 787, 14, 955, 419, 405, 504, 466, 268, 117, 273, 559, 794, 323, 177, 231, 2, 137, 1336, 164, 281, 1240, 298, 443, 1035, 79, 258, 455, 755, 673, 1217, 719, 1267, 930, 216, 1079, 452, 61, 48, 360, 77, 476, 483, 748, 220, 255, 280, 202, 408, 235, 228, 1098, 347, 178, 478, 688, 10, 127, 106, 69, 944, 790, 1091, 214, 1028, 554, 109, 171, 318, 568, 842, 65, 591, 401, 339, 746, 68, 7, 1018, 218, 623, 334, 344, 145, 56, 89, 141, 576, 153, 813, 872, 146, 507, 367, 468, 595, 11, 520, 82, 501, 3, 695, 198, 189, 767, 705, 64, 357, 484, 508, 303, 215, 749, 829, 204, 1295, 33, 160, 321, 343, 227, 191, 903, 183, 724, 430, 1197, 134, 751, 212, 256, 662, 984, 1067, 410, 879, 271, 1086, 649, 951, 197, 678, 199, 709, 169, 597, 1393, 333, 1115, 577, 378, 425, 959, 1224, 1017, 175, 286, 558, 66, 206, 402, 640, 522, 62, 12, 291, 462, 612, 758, 845, 163, 1451, 250, 823, 186, 731, 71, 781, 176, 1181, 78, 436, 631, 716, 188, 699, 604, 97, 173, 460, 715, 17, 315, 505, 279, 80, 238, 60, 325, 407, 531, 587, 892, 1047, 47, 217, 259, 596, 960, 211, 938, 1060, 404, 305, 210, 278, 770, 252, 156, 1110, 350, 431, 475, 182, 365, 187, 289, 185, 712, 94, 742, 762, 732, 168, 550, 849, 406, 150, 869, 184, 371, 720, 873, 381, 922, 57, 306, 370, 249, 721, 611, 142, 943, 126, 824, 8, 58, 680, 741, 1061, 448, 900, 941, 905, 1497, 55, 744, 642, 1015, 121, 301, 81, 284, 740, 22, 864, 1099, 961, 812, 240, 376, 931, 717, 399, 1039, 1114, 292, 561, 901, 70, 417, 809, 540, 293, 497, 1462, 1246, 655, 13, 588, 409, 739, 661, 665, 692, 439, 632, 1198, 609, 225, 128, 866, 295, 49, 626, 707, 586, 593, 147, 1220, 492, 620, 161, 1070, 449, 948, 509, 870, 39, 1100, 820, 660, 1022, 120, 780, 44, 686, 28, 729, 52, 230, 506, 566, 774, 1003, 433, 99, 1288, 190, 1010, 877, 487, 1052, 287, 659, 927, 696, 269, 179, 440, 806, 572, 654, 324, 736, 92, 461, 129, 9, 152, 233, 589, 203, 1034, 923, 463, 122, 310, 285, 447, 412, 1428, 977, 1065, 421, 937, 583, 110, 251, 831, 543, 926, 155, 53, 393, 91, 477, 472, 761, 1286, 93, 644, 982, 491, 511, 397, 162, 513, 375, 38, 418, 858, 131, 87, 725, 72, 663, 1133, 125, 1248, 354, 105, 73, 239, 860, 1046, 1178, 523, 634, 1245, 974, 619, 107, 213, 319, 963, 875, 180, 1033, 380, 59, 1078, 585, 148, 683, 454, 737, 524, 995, 616, 945, 299, 792, 708, 950, 27, 747, 85, 516, 1063, 682, 221, 1150, 847, 138, 517, 283, 602, 573, 617, 569, 1332, 703, 386, 331, 355, 949, 488, 114, 24, 763, 43, 953, 670, 510, 372, 335, 779, 435, 223, 1334, 835, 1327, 263, 450, 651, 316, 929, 580, 1041, 424, 429, 868, 1161, 166, 1162, 1019, 908, 1160, 676, 1012, 1209, 693, 282, 253, 428, 1350, 363, 300, 1346, 1119, 674, 411, 527, 1397, 807, 657, 1142, 113, 426, 1109, 116, 898, 723, 243, 582, 778, 308, 1007, 641, 1165, 764, 1011, 1101, 396, 1260, 904, 312, 1048, 627, 571, 552, 1278, 499, 1186, 1057, 207, 309, 671, 83, 482, 276, 1094, 647, 578, 1021, 886, 1151, 855, 942, 826, 1044, 254, 290, 848, 542, 581, 1229, 718, 337, 1107, 539, 821, 364, 553, 313, 1218, 115, 1129, 493, 36, 205, 102, 1249, 773, 494, 192, 687, 772, 921, 42, 469, 874, 1216, 1139, 547, 157, 1208, 1157, 808, 906, 535, 470, 714, 939, 738, 525, 340, 1037, 530, 528, 754, 1436, 771, 226, 1383, 745, 1316, 846, 605, 575, 1284, 1298, 529, 743, 840, 244, 760, 1006, 1228, 1095, 34, 103, 441, 90, 1005, 863, 473, 1281, 356, 630, 793, 766, 1206, 1342, 980, 1263, 1376, 1182, 457, 710, 615, 101, 697, 1199, 395, 983, 684, 971, 1116, 267, 556, 853, 311, 1073, 975, 361, 643, 704, 997, 260, 990, 969, 167, 650, 320, 63, 965, 652, 1059, 882, 1164, 1207, 786, 614, 810, 1222, 139, 769, 765, 67, 624, 1001, 797, 883, 752, 1315, 560, 345, 1194, 464, 1348, 932, 1179, 536, 369, 1250, 880, 629, 775, 1289, 544, 170, 1518, 413, 618, 326, 123, 628, 262, 31, 1180, 414, 490, 839, 453, 149, 1320, 827, 124, 570, 843, 844, 420, 590, 1230, 1324, 895, 1149, 567, 606, 816, 672, 584, 521, 728, 689, 329, 859, 456, 791, 159, 489, 1266, 1416, 988, 636, 1411, 533, 1394, 819, 495, 1093, 1492, 30, 314, 958, 841, 838, 702, 1020, 947, 1000, 104, 1322, 622, 481, 532, 915, 502, 1291, 330, 802, 37, 1025, 1364, 266, 727, 828, 548, 1132, 993, 136, 996, 562, 653, 74, 1493, 45, 867, 876, 158, 1183, 1118, 500, 610, 887, 1299, 918, 41, 1066, 336, 1117, 1169, 1262, 348, 270, 1053, 1464, 374, 621, 607, 1030, 777, 700, 297, 925, 928, 394, 549, 999, 1471, 341, 1009, 391, 467, 811, 805, 519, 1036, 84, 894, 574, 1113, 1306, 638, 1314, 1131, 1069, 1084, 1407, 878, 1242, 359, 579, 884, 691, 954, 261, 1112, 1090, 445, 108, 635, 1135, 76, 1082, 1215, 1328, 1013, 1170, 1265, 735, 352, 833, 722, 434, 801, 224, 358, 966, 1351, 675, 991, 633, 1102, 1424, 1163, 1413, 830, 924, 976, 825, 389, 1189, 978, 444, 1484, 362, 1442, 1419, 1241, 613, 656, 734, 946, 913, 1172, 1108, 1347, 1074, 1187, 856, 1212, 1105, 6, 964, 1043, 398, 694, 1072, 1141, 733, 1051, 1478, 19, 1210, 962, 1203, 563, 1097, 1292, 458, 871, 1062, 608, 788, 1508, 1283, 557, 936, 1362, 551, 1498, 782, 1225, 1050, 986, 1188, 1272, 1268, 415, 1372, 646, 902, 555, 383, 1239, 1277, 681, 934, 972, 1152, 645, 664, 795, 940, 1104, 783, 373, 713, 1126, 342, 1127, 1503, 818, 896, 351, 1004, 1008, 1106, 850, 1226, 639, 422, 910, 1500, 1463, 1002, 1495, 1401, 119, 1040, 1312, 537, 992, 1384, 1487, 1192, 1136, 1227, 865, 1128, 1371, 1032, 1071, 814, 503, 1253, 1318, 1378, 753, 1124, 1520, 1270, 1089, 1123, 1190, 1459, 1202, 637, 390, 349, 538, 601, 698, 1386, 1168, 1023, 437, 1276, 933, 1077, 968, 1120, 1221, 956, 353, 1244, 759, 1024, 1425, 1259, 711, 1409, 1254, 112, 1232, 888, 1213, 1258, 854, 236, 834, 1083, 1368, 889, 1466, 893, 776, 1390, 1282, 952, 1370, 907, 861, 1054, 46, 598, 1480, 1297, 1167, 1300, 1446, 784, 1143, 1294, 1373, 1489, 800, 1088, 989, 1085, 1473, 1303, 881, 1529, 1175, 594, 18, 1274, 970, 1479, 541, 1403, 1367, 388, 837, 1309, 1296, 565, 1045, 1166, 1427, 1385, 857, 822, 862, 1158, 967, 1087, 1449, 592, 890, 998, 985, 1231, 885, 669, 1438, 1068, 1219, 667, 545, 1140, 726, 1056, 1524, 247, 1430, 1236, 1361, 1285, 1058, 1247, 35, 1527, 916, 1301, 1374, 1148, 1388, 1353, 1125, 1485, 1530, 803, 1310, 1313, 1405, 459, 1469, 1387, 1536, 1582, 1343, 1457, 1404, 994, 1076, 1543, 1432, 1271, 1177, 1223, 1092, 1302, 599, 1443, 701, 706, 914, 130, 1195, 1417, 1357, 1273, 1578, 1396, 1398, 75, 534, 1458, 1379, 1279, 1330, 1439, 1338, 1354, 1554, 1193, 1561, 804, 668, 1075, 442, 1533, 1434, 1565, 1176, 1456, 1307, 1534, 1531, 400, 1421, 1369, 1455, 1257, 1555, 730, 1454, 1441, 1103, 1477, 1521, 1174, 1538, 1344, 798, 1392, 1517, 1377, 817, 1563, 1264, 1470, 1418, 1156, 1406, 1360, 935, 1275, 891, 1121, 1252, 1505, 1317, 1519, 1029, 912, 1200, 1305, 1400, 852, 1375, 1501, 1435, 1395, 1557, 1333, 1591, 1562, 1269, 909, 1450, 1550, 1154, 1237, 1261, 1586, 1038, 1504, 1214, 1522, 1238, 1064, 757, 1476, 1545, 1537, 1391, 296, 1472, 1580, 1331, 1363, 1280, 1138, 1308, 1339, 1523, 1080, 1096, 1512, 1287, 1483, 1566, 1031, 917, 920, 1589, 1293, 1349, 1422, 1389, 1290, 1447, 1111, 1513, 1235, 1412, 1185, 1337, 1592, 1399, 1547, 1420, 1173, 1159, 1506, 1468, 1355, 1437, 1304, 1359, 1204, 1426, 1588, 1590, 1608, 1617, 1026, 1311, 957, 1326, 1587, 1496, 981, 899, 1560, 677, 1571, 1549, 1402, 1598, 1514, 1558, 1415, 1528, 1575, 1510, 438, 1597, 1579, 600, 1499, 446, 1205, 1191, 1445, 1603, 1616, 1465, 1146, 1539, 1255, 1526, 1585, 1596, 1605, 1453, 1488, 1516, 1461, 973, 1553, 1559, 1431, 851, 666, 1532, 1507, 1540, 1593, 1243, 1623, 1576, 1511, 1525, 1569, 1568, 1408, 1602, 1381, 1340, 1055, 1440, 1358, 1502, 1171, 1619, 1319, 1601, 1620, 1474, 1145, 1155, 799, 1535, 1615, 1583, 1475, 1624, 1234, 1323, 1541, 1609, 1651, 1414, 1486, 1552, 1614, 1570, 1335, 1251, 1233, 1612, 1599, 1607, 1345, 1649, 1656, 1321, 1380, 1491, 1610, 1642, 1572, 1629, 1481, 1628, 1144, 1490, 1600, 1653, 1452, 1644, 1595, 1410, 1548, 1655, 1654, 1027, 1482, 1657, 1639, 1650, 1196, 1660, 1509, 897, 1365, 1661, 1423, 1515, 1658, 1621, 1662, 1646, 1632, 1618, 1647, 1429, 1643, 987, 1581, 1584, 1669, 1664, 1613, 911, 1130, 1663, 1652, 1467, 1634, 1256, 1606, 1544, 1622, 1329, 1494, 1672, 1673, 1382, 1633, 1677, 1679, 1577, 1666, 1356, 1635, 1433, 1648, 1573, 1551, 1631, 1542, 1556, 1678, 1567, 1122, 1201, 1546, 1627, 1676, 1680, 1366, 1611, 1668, 1564, 1604, 1574, 1448, 1671, 1625, 1665, 1325, 1670, 1341, 1352, 1636, 1681, 1638, 1667, 1675, 1460, 1594, 1626, 1645, 1659, 1682, 1674, 1640, 1637, 1630, 1641]\n",
            "encoded item_id :  {50: 0, 172: 1, 133: 2, 242: 3, 302: 4, 377: 5, 51: 6, 346: 7, 474: 8, 265: 9, 465: 10, 451: 11, 86: 12, 257: 13, 1014: 14, 222: 15, 40: 16, 29: 17, 785: 18, 387: 19, 274: 20, 1042: 21, 1184: 22, 392: 23, 486: 24, 144: 25, 118: 26, 1: 27, 546: 28, 95: 29, 768: 30, 277: 31, 234: 32, 246: 33, 98: 34, 193: 35, 88: 36, 194: 37, 1081: 38, 603: 39, 796: 40, 32: 41, 16: 42, 304: 43, 979: 44, 564: 45, 327: 46, 201: 47, 1137: 48, 241: 49, 4: 50, 332: 51, 100: 52, 432: 53, 322: 54, 181: 55, 196: 56, 679: 57, 384: 58, 143: 59, 423: 60, 515: 61, 20: 62, 288: 63, 219: 64, 526: 65, 919: 66, 26: 67, 232: 68, 427: 69, 512: 70, 15: 71, 1049: 72, 416: 73, 165: 74, 690: 75, 248: 76, 1444: 77, 5: 78, 229: 79, 237: 80, 480: 81, 54: 82, 366: 83, 518: 84, 403: 85, 111: 86, 625: 87, 338: 88, 25: 89, 1016: 90, 154: 91, 275: 92, 1153: 93, 498: 94, 382: 95, 209: 96, 23: 97, 294: 98, 208: 99, 685: 100, 328: 101, 496: 102, 132: 103, 174: 104, 96: 105, 151: 106, 307: 107, 648: 108, 21: 109, 832: 110, 514: 111, 789: 112, 485: 113, 317: 114, 195: 115, 200: 116, 385: 117, 750: 118, 264: 119, 245: 120, 135: 121, 1147: 122, 471: 123, 658: 124, 140: 125, 379: 126, 815: 127, 479: 128, 368: 129, 1211: 130, 1134: 131, 836: 132, 272: 133, 756: 134, 787: 135, 14: 136, 955: 137, 419: 138, 405: 139, 504: 140, 466: 141, 268: 142, 117: 143, 273: 144, 559: 145, 794: 146, 323: 147, 177: 148, 231: 149, 2: 150, 137: 151, 1336: 152, 164: 153, 281: 154, 1240: 155, 298: 156, 443: 157, 1035: 158, 79: 159, 258: 160, 455: 161, 755: 162, 673: 163, 1217: 164, 719: 165, 1267: 166, 930: 167, 216: 168, 1079: 169, 452: 170, 61: 171, 48: 172, 360: 173, 77: 174, 476: 175, 483: 176, 748: 177, 220: 178, 255: 179, 280: 180, 202: 181, 408: 182, 235: 183, 228: 184, 1098: 185, 347: 186, 178: 187, 478: 188, 688: 189, 10: 190, 127: 191, 106: 192, 69: 193, 944: 194, 790: 195, 1091: 196, 214: 197, 1028: 198, 554: 199, 109: 200, 171: 201, 318: 202, 568: 203, 842: 204, 65: 205, 591: 206, 401: 207, 339: 208, 746: 209, 68: 210, 7: 211, 1018: 212, 218: 213, 623: 214, 334: 215, 344: 216, 145: 217, 56: 218, 89: 219, 141: 220, 576: 221, 153: 222, 813: 223, 872: 224, 146: 225, 507: 226, 367: 227, 468: 228, 595: 229, 11: 230, 520: 231, 82: 232, 501: 233, 3: 234, 695: 235, 198: 236, 189: 237, 767: 238, 705: 239, 64: 240, 357: 241, 484: 242, 508: 243, 303: 244, 215: 245, 749: 246, 829: 247, 204: 248, 1295: 249, 33: 250, 160: 251, 321: 252, 343: 253, 227: 254, 191: 255, 903: 256, 183: 257, 724: 258, 430: 259, 1197: 260, 134: 261, 751: 262, 212: 263, 256: 264, 662: 265, 984: 266, 1067: 267, 410: 268, 879: 269, 271: 270, 1086: 271, 649: 272, 951: 273, 197: 274, 678: 275, 199: 276, 709: 277, 169: 278, 597: 279, 1393: 280, 333: 281, 1115: 282, 577: 283, 378: 284, 425: 285, 959: 286, 1224: 287, 1017: 288, 175: 289, 286: 290, 558: 291, 66: 292, 206: 293, 402: 294, 640: 295, 522: 296, 62: 297, 12: 298, 291: 299, 462: 300, 612: 301, 758: 302, 845: 303, 163: 304, 1451: 305, 250: 306, 823: 307, 186: 308, 731: 309, 71: 310, 781: 311, 176: 312, 1181: 313, 78: 314, 436: 315, 631: 316, 716: 317, 188: 318, 699: 319, 604: 320, 97: 321, 173: 322, 460: 323, 715: 324, 17: 325, 315: 326, 505: 327, 279: 328, 80: 329, 238: 330, 60: 331, 325: 332, 407: 333, 531: 334, 587: 335, 892: 336, 1047: 337, 47: 338, 217: 339, 259: 340, 596: 341, 960: 342, 211: 343, 938: 344, 1060: 345, 404: 346, 305: 347, 210: 348, 278: 349, 770: 350, 252: 351, 156: 352, 1110: 353, 350: 354, 431: 355, 475: 356, 182: 357, 365: 358, 187: 359, 289: 360, 185: 361, 712: 362, 94: 363, 742: 364, 762: 365, 732: 366, 168: 367, 550: 368, 849: 369, 406: 370, 150: 371, 869: 372, 184: 373, 371: 374, 720: 375, 873: 376, 381: 377, 922: 378, 57: 379, 306: 380, 370: 381, 249: 382, 721: 383, 611: 384, 142: 385, 943: 386, 126: 387, 824: 388, 8: 389, 58: 390, 680: 391, 741: 392, 1061: 393, 448: 394, 900: 395, 941: 396, 905: 397, 1497: 398, 55: 399, 744: 400, 642: 401, 1015: 402, 121: 403, 301: 404, 81: 405, 284: 406, 740: 407, 22: 408, 864: 409, 1099: 410, 961: 411, 812: 412, 240: 413, 376: 414, 931: 415, 717: 416, 399: 417, 1039: 418, 1114: 419, 292: 420, 561: 421, 901: 422, 70: 423, 417: 424, 809: 425, 540: 426, 293: 427, 497: 428, 1462: 429, 1246: 430, 655: 431, 13: 432, 588: 433, 409: 434, 739: 435, 661: 436, 665: 437, 692: 438, 439: 439, 632: 440, 1198: 441, 609: 442, 225: 443, 128: 444, 866: 445, 295: 446, 49: 447, 626: 448, 707: 449, 586: 450, 593: 451, 147: 452, 1220: 453, 492: 454, 620: 455, 161: 456, 1070: 457, 449: 458, 948: 459, 509: 460, 870: 461, 39: 462, 1100: 463, 820: 464, 660: 465, 1022: 466, 120: 467, 780: 468, 44: 469, 686: 470, 28: 471, 729: 472, 52: 473, 230: 474, 506: 475, 566: 476, 774: 477, 1003: 478, 433: 479, 99: 480, 1288: 481, 190: 482, 1010: 483, 877: 484, 487: 485, 1052: 486, 287: 487, 659: 488, 927: 489, 696: 490, 269: 491, 179: 492, 440: 493, 806: 494, 572: 495, 654: 496, 324: 497, 736: 498, 92: 499, 461: 500, 129: 501, 9: 502, 152: 503, 233: 504, 589: 505, 203: 506, 1034: 507, 923: 508, 463: 509, 122: 510, 310: 511, 285: 512, 447: 513, 412: 514, 1428: 515, 977: 516, 1065: 517, 421: 518, 937: 519, 583: 520, 110: 521, 251: 522, 831: 523, 543: 524, 926: 525, 155: 526, 53: 527, 393: 528, 91: 529, 477: 530, 472: 531, 761: 532, 1286: 533, 93: 534, 644: 535, 982: 536, 491: 537, 511: 538, 397: 539, 162: 540, 513: 541, 375: 542, 38: 543, 418: 544, 858: 545, 131: 546, 87: 547, 725: 548, 72: 549, 663: 550, 1133: 551, 125: 552, 1248: 553, 354: 554, 105: 555, 73: 556, 239: 557, 860: 558, 1046: 559, 1178: 560, 523: 561, 634: 562, 1245: 563, 974: 564, 619: 565, 107: 566, 213: 567, 319: 568, 963: 569, 875: 570, 180: 571, 1033: 572, 380: 573, 59: 574, 1078: 575, 585: 576, 148: 577, 683: 578, 454: 579, 737: 580, 524: 581, 995: 582, 616: 583, 945: 584, 299: 585, 792: 586, 708: 587, 950: 588, 27: 589, 747: 590, 85: 591, 516: 592, 1063: 593, 682: 594, 221: 595, 1150: 596, 847: 597, 138: 598, 517: 599, 283: 600, 602: 601, 573: 602, 617: 603, 569: 604, 1332: 605, 703: 606, 386: 607, 331: 608, 355: 609, 949: 610, 488: 611, 114: 612, 24: 613, 763: 614, 43: 615, 953: 616, 670: 617, 510: 618, 372: 619, 335: 620, 779: 621, 435: 622, 223: 623, 1334: 624, 835: 625, 1327: 626, 263: 627, 450: 628, 651: 629, 316: 630, 929: 631, 580: 632, 1041: 633, 424: 634, 429: 635, 868: 636, 1161: 637, 166: 638, 1162: 639, 1019: 640, 908: 641, 1160: 642, 676: 643, 1012: 644, 1209: 645, 693: 646, 282: 647, 253: 648, 428: 649, 1350: 650, 363: 651, 300: 652, 1346: 653, 1119: 654, 674: 655, 411: 656, 527: 657, 1397: 658, 807: 659, 657: 660, 1142: 661, 113: 662, 426: 663, 1109: 664, 116: 665, 898: 666, 723: 667, 243: 668, 582: 669, 778: 670, 308: 671, 1007: 672, 641: 673, 1165: 674, 764: 675, 1011: 676, 1101: 677, 396: 678, 1260: 679, 904: 680, 312: 681, 1048: 682, 627: 683, 571: 684, 552: 685, 1278: 686, 499: 687, 1186: 688, 1057: 689, 207: 690, 309: 691, 671: 692, 83: 693, 482: 694, 276: 695, 1094: 696, 647: 697, 578: 698, 1021: 699, 886: 700, 1151: 701, 855: 702, 942: 703, 826: 704, 1044: 705, 254: 706, 290: 707, 848: 708, 542: 709, 581: 710, 1229: 711, 718: 712, 337: 713, 1107: 714, 539: 715, 821: 716, 364: 717, 553: 718, 313: 719, 1218: 720, 115: 721, 1129: 722, 493: 723, 36: 724, 205: 725, 102: 726, 1249: 727, 773: 728, 494: 729, 192: 730, 687: 731, 772: 732, 921: 733, 42: 734, 469: 735, 874: 736, 1216: 737, 1139: 738, 547: 739, 157: 740, 1208: 741, 1157: 742, 808: 743, 906: 744, 535: 745, 470: 746, 714: 747, 939: 748, 738: 749, 525: 750, 340: 751, 1037: 752, 530: 753, 528: 754, 754: 755, 1436: 756, 771: 757, 226: 758, 1383: 759, 745: 760, 1316: 761, 846: 762, 605: 763, 575: 764, 1284: 765, 1298: 766, 529: 767, 743: 768, 840: 769, 244: 770, 760: 771, 1006: 772, 1228: 773, 1095: 774, 34: 775, 103: 776, 441: 777, 90: 778, 1005: 779, 863: 780, 473: 781, 1281: 782, 356: 783, 630: 784, 793: 785, 766: 786, 1206: 787, 1342: 788, 980: 789, 1263: 790, 1376: 791, 1182: 792, 457: 793, 710: 794, 615: 795, 101: 796, 697: 797, 1199: 798, 395: 799, 983: 800, 684: 801, 971: 802, 1116: 803, 267: 804, 556: 805, 853: 806, 311: 807, 1073: 808, 975: 809, 361: 810, 643: 811, 704: 812, 997: 813, 260: 814, 990: 815, 969: 816, 167: 817, 650: 818, 320: 819, 63: 820, 965: 821, 652: 822, 1059: 823, 882: 824, 1164: 825, 1207: 826, 786: 827, 614: 828, 810: 829, 1222: 830, 139: 831, 769: 832, 765: 833, 67: 834, 624: 835, 1001: 836, 797: 837, 883: 838, 752: 839, 1315: 840, 560: 841, 345: 842, 1194: 843, 464: 844, 1348: 845, 932: 846, 1179: 847, 536: 848, 369: 849, 1250: 850, 880: 851, 629: 852, 775: 853, 1289: 854, 544: 855, 170: 856, 1518: 857, 413: 858, 618: 859, 326: 860, 123: 861, 628: 862, 262: 863, 31: 864, 1180: 865, 414: 866, 490: 867, 839: 868, 453: 869, 149: 870, 1320: 871, 827: 872, 124: 873, 570: 874, 843: 875, 844: 876, 420: 877, 590: 878, 1230: 879, 1324: 880, 895: 881, 1149: 882, 567: 883, 606: 884, 816: 885, 672: 886, 584: 887, 521: 888, 728: 889, 689: 890, 329: 891, 859: 892, 456: 893, 791: 894, 159: 895, 489: 896, 1266: 897, 1416: 898, 988: 899, 636: 900, 1411: 901, 533: 902, 1394: 903, 819: 904, 495: 905, 1093: 906, 1492: 907, 30: 908, 314: 909, 958: 910, 841: 911, 838: 912, 702: 913, 1020: 914, 947: 915, 1000: 916, 104: 917, 1322: 918, 622: 919, 481: 920, 532: 921, 915: 922, 502: 923, 1291: 924, 330: 925, 802: 926, 37: 927, 1025: 928, 1364: 929, 266: 930, 727: 931, 828: 932, 548: 933, 1132: 934, 993: 935, 136: 936, 996: 937, 562: 938, 653: 939, 74: 940, 1493: 941, 45: 942, 867: 943, 876: 944, 158: 945, 1183: 946, 1118: 947, 500: 948, 610: 949, 887: 950, 1299: 951, 918: 952, 41: 953, 1066: 954, 336: 955, 1117: 956, 1169: 957, 1262: 958, 348: 959, 270: 960, 1053: 961, 1464: 962, 374: 963, 621: 964, 607: 965, 1030: 966, 777: 967, 700: 968, 297: 969, 925: 970, 928: 971, 394: 972, 549: 973, 999: 974, 1471: 975, 341: 976, 1009: 977, 391: 978, 467: 979, 811: 980, 805: 981, 519: 982, 1036: 983, 84: 984, 894: 985, 574: 986, 1113: 987, 1306: 988, 638: 989, 1314: 990, 1131: 991, 1069: 992, 1084: 993, 1407: 994, 878: 995, 1242: 996, 359: 997, 579: 998, 884: 999, 691: 1000, 954: 1001, 261: 1002, 1112: 1003, 1090: 1004, 445: 1005, 108: 1006, 635: 1007, 1135: 1008, 76: 1009, 1082: 1010, 1215: 1011, 1328: 1012, 1013: 1013, 1170: 1014, 1265: 1015, 735: 1016, 352: 1017, 833: 1018, 722: 1019, 434: 1020, 801: 1021, 224: 1022, 358: 1023, 966: 1024, 1351: 1025, 675: 1026, 991: 1027, 633: 1028, 1102: 1029, 1424: 1030, 1163: 1031, 1413: 1032, 830: 1033, 924: 1034, 976: 1035, 825: 1036, 389: 1037, 1189: 1038, 978: 1039, 444: 1040, 1484: 1041, 362: 1042, 1442: 1043, 1419: 1044, 1241: 1045, 613: 1046, 656: 1047, 734: 1048, 946: 1049, 913: 1050, 1172: 1051, 1108: 1052, 1347: 1053, 1074: 1054, 1187: 1055, 856: 1056, 1212: 1057, 1105: 1058, 6: 1059, 964: 1060, 1043: 1061, 398: 1062, 694: 1063, 1072: 1064, 1141: 1065, 733: 1066, 1051: 1067, 1478: 1068, 19: 1069, 1210: 1070, 962: 1071, 1203: 1072, 563: 1073, 1097: 1074, 1292: 1075, 458: 1076, 871: 1077, 1062: 1078, 608: 1079, 788: 1080, 1508: 1081, 1283: 1082, 557: 1083, 936: 1084, 1362: 1085, 551: 1086, 1498: 1087, 782: 1088, 1225: 1089, 1050: 1090, 986: 1091, 1188: 1092, 1272: 1093, 1268: 1094, 415: 1095, 1372: 1096, 646: 1097, 902: 1098, 555: 1099, 383: 1100, 1239: 1101, 1277: 1102, 681: 1103, 934: 1104, 972: 1105, 1152: 1106, 645: 1107, 664: 1108, 795: 1109, 940: 1110, 1104: 1111, 783: 1112, 373: 1113, 713: 1114, 1126: 1115, 342: 1116, 1127: 1117, 1503: 1118, 818: 1119, 896: 1120, 351: 1121, 1004: 1122, 1008: 1123, 1106: 1124, 850: 1125, 1226: 1126, 639: 1127, 422: 1128, 910: 1129, 1500: 1130, 1463: 1131, 1002: 1132, 1495: 1133, 1401: 1134, 119: 1135, 1040: 1136, 1312: 1137, 537: 1138, 992: 1139, 1384: 1140, 1487: 1141, 1192: 1142, 1136: 1143, 1227: 1144, 865: 1145, 1128: 1146, 1371: 1147, 1032: 1148, 1071: 1149, 814: 1150, 503: 1151, 1253: 1152, 1318: 1153, 1378: 1154, 753: 1155, 1124: 1156, 1520: 1157, 1270: 1158, 1089: 1159, 1123: 1160, 1190: 1161, 1459: 1162, 1202: 1163, 637: 1164, 390: 1165, 349: 1166, 538: 1167, 601: 1168, 698: 1169, 1386: 1170, 1168: 1171, 1023: 1172, 437: 1173, 1276: 1174, 933: 1175, 1077: 1176, 968: 1177, 1120: 1178, 1221: 1179, 956: 1180, 353: 1181, 1244: 1182, 759: 1183, 1024: 1184, 1425: 1185, 1259: 1186, 711: 1187, 1409: 1188, 1254: 1189, 112: 1190, 1232: 1191, 888: 1192, 1213: 1193, 1258: 1194, 854: 1195, 236: 1196, 834: 1197, 1083: 1198, 1368: 1199, 889: 1200, 1466: 1201, 893: 1202, 776: 1203, 1390: 1204, 1282: 1205, 952: 1206, 1370: 1207, 907: 1208, 861: 1209, 1054: 1210, 46: 1211, 598: 1212, 1480: 1213, 1297: 1214, 1167: 1215, 1300: 1216, 1446: 1217, 784: 1218, 1143: 1219, 1294: 1220, 1373: 1221, 1489: 1222, 800: 1223, 1088: 1224, 989: 1225, 1085: 1226, 1473: 1227, 1303: 1228, 881: 1229, 1529: 1230, 1175: 1231, 594: 1232, 18: 1233, 1274: 1234, 970: 1235, 1479: 1236, 541: 1237, 1403: 1238, 1367: 1239, 388: 1240, 837: 1241, 1309: 1242, 1296: 1243, 565: 1244, 1045: 1245, 1166: 1246, 1427: 1247, 1385: 1248, 857: 1249, 822: 1250, 862: 1251, 1158: 1252, 967: 1253, 1087: 1254, 1449: 1255, 592: 1256, 890: 1257, 998: 1258, 985: 1259, 1231: 1260, 885: 1261, 669: 1262, 1438: 1263, 1068: 1264, 1219: 1265, 667: 1266, 545: 1267, 1140: 1268, 726: 1269, 1056: 1270, 1524: 1271, 247: 1272, 1430: 1273, 1236: 1274, 1361: 1275, 1285: 1276, 1058: 1277, 1247: 1278, 35: 1279, 1527: 1280, 916: 1281, 1301: 1282, 1374: 1283, 1148: 1284, 1388: 1285, 1353: 1286, 1125: 1287, 1485: 1288, 1530: 1289, 803: 1290, 1310: 1291, 1313: 1292, 1405: 1293, 459: 1294, 1469: 1295, 1387: 1296, 1536: 1297, 1582: 1298, 1343: 1299, 1457: 1300, 1404: 1301, 994: 1302, 1076: 1303, 1543: 1304, 1432: 1305, 1271: 1306, 1177: 1307, 1223: 1308, 1092: 1309, 1302: 1310, 599: 1311, 1443: 1312, 701: 1313, 706: 1314, 914: 1315, 130: 1316, 1195: 1317, 1417: 1318, 1357: 1319, 1273: 1320, 1578: 1321, 1396: 1322, 1398: 1323, 75: 1324, 534: 1325, 1458: 1326, 1379: 1327, 1279: 1328, 1330: 1329, 1439: 1330, 1338: 1331, 1354: 1332, 1554: 1333, 1193: 1334, 1561: 1335, 804: 1336, 668: 1337, 1075: 1338, 442: 1339, 1533: 1340, 1434: 1341, 1565: 1342, 1176: 1343, 1456: 1344, 1307: 1345, 1534: 1346, 1531: 1347, 400: 1348, 1421: 1349, 1369: 1350, 1455: 1351, 1257: 1352, 1555: 1353, 730: 1354, 1454: 1355, 1441: 1356, 1103: 1357, 1477: 1358, 1521: 1359, 1174: 1360, 1538: 1361, 1344: 1362, 798: 1363, 1392: 1364, 1517: 1365, 1377: 1366, 817: 1367, 1563: 1368, 1264: 1369, 1470: 1370, 1418: 1371, 1156: 1372, 1406: 1373, 1360: 1374, 935: 1375, 1275: 1376, 891: 1377, 1121: 1378, 1252: 1379, 1505: 1380, 1317: 1381, 1519: 1382, 1029: 1383, 912: 1384, 1200: 1385, 1305: 1386, 1400: 1387, 852: 1388, 1375: 1389, 1501: 1390, 1435: 1391, 1395: 1392, 1557: 1393, 1333: 1394, 1591: 1395, 1562: 1396, 1269: 1397, 909: 1398, 1450: 1399, 1550: 1400, 1154: 1401, 1237: 1402, 1261: 1403, 1586: 1404, 1038: 1405, 1504: 1406, 1214: 1407, 1522: 1408, 1238: 1409, 1064: 1410, 757: 1411, 1476: 1412, 1545: 1413, 1537: 1414, 1391: 1415, 296: 1416, 1472: 1417, 1580: 1418, 1331: 1419, 1363: 1420, 1280: 1421, 1138: 1422, 1308: 1423, 1339: 1424, 1523: 1425, 1080: 1426, 1096: 1427, 1512: 1428, 1287: 1429, 1483: 1430, 1566: 1431, 1031: 1432, 917: 1433, 920: 1434, 1589: 1435, 1293: 1436, 1349: 1437, 1422: 1438, 1389: 1439, 1290: 1440, 1447: 1441, 1111: 1442, 1513: 1443, 1235: 1444, 1412: 1445, 1185: 1446, 1337: 1447, 1592: 1448, 1399: 1449, 1547: 1450, 1420: 1451, 1173: 1452, 1159: 1453, 1506: 1454, 1468: 1455, 1355: 1456, 1437: 1457, 1304: 1458, 1359: 1459, 1204: 1460, 1426: 1461, 1588: 1462, 1590: 1463, 1608: 1464, 1617: 1465, 1026: 1466, 1311: 1467, 957: 1468, 1326: 1469, 1587: 1470, 1496: 1471, 981: 1472, 899: 1473, 1560: 1474, 677: 1475, 1571: 1476, 1549: 1477, 1402: 1478, 1598: 1479, 1514: 1480, 1558: 1481, 1415: 1482, 1528: 1483, 1575: 1484, 1510: 1485, 438: 1486, 1597: 1487, 1579: 1488, 600: 1489, 1499: 1490, 446: 1491, 1205: 1492, 1191: 1493, 1445: 1494, 1603: 1495, 1616: 1496, 1465: 1497, 1146: 1498, 1539: 1499, 1255: 1500, 1526: 1501, 1585: 1502, 1596: 1503, 1605: 1504, 1453: 1505, 1488: 1506, 1516: 1507, 1461: 1508, 973: 1509, 1553: 1510, 1559: 1511, 1431: 1512, 851: 1513, 666: 1514, 1532: 1515, 1507: 1516, 1540: 1517, 1593: 1518, 1243: 1519, 1623: 1520, 1576: 1521, 1511: 1522, 1525: 1523, 1569: 1524, 1568: 1525, 1408: 1526, 1602: 1527, 1381: 1528, 1340: 1529, 1055: 1530, 1440: 1531, 1358: 1532, 1502: 1533, 1171: 1534, 1619: 1535, 1319: 1536, 1601: 1537, 1620: 1538, 1474: 1539, 1145: 1540, 1155: 1541, 799: 1542, 1535: 1543, 1615: 1544, 1583: 1545, 1475: 1546, 1624: 1547, 1234: 1548, 1323: 1549, 1541: 1550, 1609: 1551, 1651: 1552, 1414: 1553, 1486: 1554, 1552: 1555, 1614: 1556, 1570: 1557, 1335: 1558, 1251: 1559, 1233: 1560, 1612: 1561, 1599: 1562, 1607: 1563, 1345: 1564, 1649: 1565, 1656: 1566, 1321: 1567, 1380: 1568, 1491: 1569, 1610: 1570, 1642: 1571, 1572: 1572, 1629: 1573, 1481: 1574, 1628: 1575, 1144: 1576, 1490: 1577, 1600: 1578, 1653: 1579, 1452: 1580, 1644: 1581, 1595: 1582, 1410: 1583, 1548: 1584, 1655: 1585, 1654: 1586, 1027: 1587, 1482: 1588, 1657: 1589, 1639: 1590, 1650: 1591, 1196: 1592, 1660: 1593, 1509: 1594, 897: 1595, 1365: 1596, 1661: 1597, 1423: 1598, 1515: 1599, 1658: 1600, 1621: 1601, 1662: 1602, 1646: 1603, 1632: 1604, 1618: 1605, 1647: 1606, 1429: 1607, 1643: 1608, 987: 1609, 1581: 1610, 1584: 1611, 1669: 1612, 1664: 1613, 1613: 1614, 911: 1615, 1130: 1616, 1663: 1617, 1652: 1618, 1467: 1619, 1634: 1620, 1256: 1621, 1606: 1622, 1544: 1623, 1622: 1624, 1329: 1625, 1494: 1626, 1672: 1627, 1673: 1628, 1382: 1629, 1633: 1630, 1677: 1631, 1679: 1632, 1577: 1633, 1666: 1634, 1356: 1635, 1635: 1636, 1433: 1637, 1648: 1638, 1573: 1639, 1551: 1640, 1631: 1641, 1542: 1642, 1556: 1643, 1678: 1644, 1567: 1645, 1122: 1646, 1201: 1647, 1546: 1648, 1627: 1649, 1676: 1650, 1680: 1651, 1366: 1652, 1611: 1653, 1668: 1654, 1564: 1655, 1604: 1656, 1574: 1657, 1448: 1658, 1671: 1659, 1625: 1660, 1665: 1661, 1325: 1662, 1670: 1663, 1341: 1664, 1352: 1665, 1636: 1666, 1681: 1667, 1638: 1668, 1667: 1669, 1675: 1670, 1460: 1671, 1594: 1672, 1626: 1673, 1645: 1674, 1659: 1675, 1682: 1676, 1674: 1677, 1640: 1678, 1637: 1679, 1630: 1680, 1641: 1681}\n",
            "encoded angka ke item_id:  {0: 50, 1: 172, 2: 133, 3: 242, 4: 302, 5: 377, 6: 51, 7: 346, 8: 474, 9: 265, 10: 465, 11: 451, 12: 86, 13: 257, 14: 1014, 15: 222, 16: 40, 17: 29, 18: 785, 19: 387, 20: 274, 21: 1042, 22: 1184, 23: 392, 24: 486, 25: 144, 26: 118, 27: 1, 28: 546, 29: 95, 30: 768, 31: 277, 32: 234, 33: 246, 34: 98, 35: 193, 36: 88, 37: 194, 38: 1081, 39: 603, 40: 796, 41: 32, 42: 16, 43: 304, 44: 979, 45: 564, 46: 327, 47: 201, 48: 1137, 49: 241, 50: 4, 51: 332, 52: 100, 53: 432, 54: 322, 55: 181, 56: 196, 57: 679, 58: 384, 59: 143, 60: 423, 61: 515, 62: 20, 63: 288, 64: 219, 65: 526, 66: 919, 67: 26, 68: 232, 69: 427, 70: 512, 71: 15, 72: 1049, 73: 416, 74: 165, 75: 690, 76: 248, 77: 1444, 78: 5, 79: 229, 80: 237, 81: 480, 82: 54, 83: 366, 84: 518, 85: 403, 86: 111, 87: 625, 88: 338, 89: 25, 90: 1016, 91: 154, 92: 275, 93: 1153, 94: 498, 95: 382, 96: 209, 97: 23, 98: 294, 99: 208, 100: 685, 101: 328, 102: 496, 103: 132, 104: 174, 105: 96, 106: 151, 107: 307, 108: 648, 109: 21, 110: 832, 111: 514, 112: 789, 113: 485, 114: 317, 115: 195, 116: 200, 117: 385, 118: 750, 119: 264, 120: 245, 121: 135, 122: 1147, 123: 471, 124: 658, 125: 140, 126: 379, 127: 815, 128: 479, 129: 368, 130: 1211, 131: 1134, 132: 836, 133: 272, 134: 756, 135: 787, 136: 14, 137: 955, 138: 419, 139: 405, 140: 504, 141: 466, 142: 268, 143: 117, 144: 273, 145: 559, 146: 794, 147: 323, 148: 177, 149: 231, 150: 2, 151: 137, 152: 1336, 153: 164, 154: 281, 155: 1240, 156: 298, 157: 443, 158: 1035, 159: 79, 160: 258, 161: 455, 162: 755, 163: 673, 164: 1217, 165: 719, 166: 1267, 167: 930, 168: 216, 169: 1079, 170: 452, 171: 61, 172: 48, 173: 360, 174: 77, 175: 476, 176: 483, 177: 748, 178: 220, 179: 255, 180: 280, 181: 202, 182: 408, 183: 235, 184: 228, 185: 1098, 186: 347, 187: 178, 188: 478, 189: 688, 190: 10, 191: 127, 192: 106, 193: 69, 194: 944, 195: 790, 196: 1091, 197: 214, 198: 1028, 199: 554, 200: 109, 201: 171, 202: 318, 203: 568, 204: 842, 205: 65, 206: 591, 207: 401, 208: 339, 209: 746, 210: 68, 211: 7, 212: 1018, 213: 218, 214: 623, 215: 334, 216: 344, 217: 145, 218: 56, 219: 89, 220: 141, 221: 576, 222: 153, 223: 813, 224: 872, 225: 146, 226: 507, 227: 367, 228: 468, 229: 595, 230: 11, 231: 520, 232: 82, 233: 501, 234: 3, 235: 695, 236: 198, 237: 189, 238: 767, 239: 705, 240: 64, 241: 357, 242: 484, 243: 508, 244: 303, 245: 215, 246: 749, 247: 829, 248: 204, 249: 1295, 250: 33, 251: 160, 252: 321, 253: 343, 254: 227, 255: 191, 256: 903, 257: 183, 258: 724, 259: 430, 260: 1197, 261: 134, 262: 751, 263: 212, 264: 256, 265: 662, 266: 984, 267: 1067, 268: 410, 269: 879, 270: 271, 271: 1086, 272: 649, 273: 951, 274: 197, 275: 678, 276: 199, 277: 709, 278: 169, 279: 597, 280: 1393, 281: 333, 282: 1115, 283: 577, 284: 378, 285: 425, 286: 959, 287: 1224, 288: 1017, 289: 175, 290: 286, 291: 558, 292: 66, 293: 206, 294: 402, 295: 640, 296: 522, 297: 62, 298: 12, 299: 291, 300: 462, 301: 612, 302: 758, 303: 845, 304: 163, 305: 1451, 306: 250, 307: 823, 308: 186, 309: 731, 310: 71, 311: 781, 312: 176, 313: 1181, 314: 78, 315: 436, 316: 631, 317: 716, 318: 188, 319: 699, 320: 604, 321: 97, 322: 173, 323: 460, 324: 715, 325: 17, 326: 315, 327: 505, 328: 279, 329: 80, 330: 238, 331: 60, 332: 325, 333: 407, 334: 531, 335: 587, 336: 892, 337: 1047, 338: 47, 339: 217, 340: 259, 341: 596, 342: 960, 343: 211, 344: 938, 345: 1060, 346: 404, 347: 305, 348: 210, 349: 278, 350: 770, 351: 252, 352: 156, 353: 1110, 354: 350, 355: 431, 356: 475, 357: 182, 358: 365, 359: 187, 360: 289, 361: 185, 362: 712, 363: 94, 364: 742, 365: 762, 366: 732, 367: 168, 368: 550, 369: 849, 370: 406, 371: 150, 372: 869, 373: 184, 374: 371, 375: 720, 376: 873, 377: 381, 378: 922, 379: 57, 380: 306, 381: 370, 382: 249, 383: 721, 384: 611, 385: 142, 386: 943, 387: 126, 388: 824, 389: 8, 390: 58, 391: 680, 392: 741, 393: 1061, 394: 448, 395: 900, 396: 941, 397: 905, 398: 1497, 399: 55, 400: 744, 401: 642, 402: 1015, 403: 121, 404: 301, 405: 81, 406: 284, 407: 740, 408: 22, 409: 864, 410: 1099, 411: 961, 412: 812, 413: 240, 414: 376, 415: 931, 416: 717, 417: 399, 418: 1039, 419: 1114, 420: 292, 421: 561, 422: 901, 423: 70, 424: 417, 425: 809, 426: 540, 427: 293, 428: 497, 429: 1462, 430: 1246, 431: 655, 432: 13, 433: 588, 434: 409, 435: 739, 436: 661, 437: 665, 438: 692, 439: 439, 440: 632, 441: 1198, 442: 609, 443: 225, 444: 128, 445: 866, 446: 295, 447: 49, 448: 626, 449: 707, 450: 586, 451: 593, 452: 147, 453: 1220, 454: 492, 455: 620, 456: 161, 457: 1070, 458: 449, 459: 948, 460: 509, 461: 870, 462: 39, 463: 1100, 464: 820, 465: 660, 466: 1022, 467: 120, 468: 780, 469: 44, 470: 686, 471: 28, 472: 729, 473: 52, 474: 230, 475: 506, 476: 566, 477: 774, 478: 1003, 479: 433, 480: 99, 481: 1288, 482: 190, 483: 1010, 484: 877, 485: 487, 486: 1052, 487: 287, 488: 659, 489: 927, 490: 696, 491: 269, 492: 179, 493: 440, 494: 806, 495: 572, 496: 654, 497: 324, 498: 736, 499: 92, 500: 461, 501: 129, 502: 9, 503: 152, 504: 233, 505: 589, 506: 203, 507: 1034, 508: 923, 509: 463, 510: 122, 511: 310, 512: 285, 513: 447, 514: 412, 515: 1428, 516: 977, 517: 1065, 518: 421, 519: 937, 520: 583, 521: 110, 522: 251, 523: 831, 524: 543, 525: 926, 526: 155, 527: 53, 528: 393, 529: 91, 530: 477, 531: 472, 532: 761, 533: 1286, 534: 93, 535: 644, 536: 982, 537: 491, 538: 511, 539: 397, 540: 162, 541: 513, 542: 375, 543: 38, 544: 418, 545: 858, 546: 131, 547: 87, 548: 725, 549: 72, 550: 663, 551: 1133, 552: 125, 553: 1248, 554: 354, 555: 105, 556: 73, 557: 239, 558: 860, 559: 1046, 560: 1178, 561: 523, 562: 634, 563: 1245, 564: 974, 565: 619, 566: 107, 567: 213, 568: 319, 569: 963, 570: 875, 571: 180, 572: 1033, 573: 380, 574: 59, 575: 1078, 576: 585, 577: 148, 578: 683, 579: 454, 580: 737, 581: 524, 582: 995, 583: 616, 584: 945, 585: 299, 586: 792, 587: 708, 588: 950, 589: 27, 590: 747, 591: 85, 592: 516, 593: 1063, 594: 682, 595: 221, 596: 1150, 597: 847, 598: 138, 599: 517, 600: 283, 601: 602, 602: 573, 603: 617, 604: 569, 605: 1332, 606: 703, 607: 386, 608: 331, 609: 355, 610: 949, 611: 488, 612: 114, 613: 24, 614: 763, 615: 43, 616: 953, 617: 670, 618: 510, 619: 372, 620: 335, 621: 779, 622: 435, 623: 223, 624: 1334, 625: 835, 626: 1327, 627: 263, 628: 450, 629: 651, 630: 316, 631: 929, 632: 580, 633: 1041, 634: 424, 635: 429, 636: 868, 637: 1161, 638: 166, 639: 1162, 640: 1019, 641: 908, 642: 1160, 643: 676, 644: 1012, 645: 1209, 646: 693, 647: 282, 648: 253, 649: 428, 650: 1350, 651: 363, 652: 300, 653: 1346, 654: 1119, 655: 674, 656: 411, 657: 527, 658: 1397, 659: 807, 660: 657, 661: 1142, 662: 113, 663: 426, 664: 1109, 665: 116, 666: 898, 667: 723, 668: 243, 669: 582, 670: 778, 671: 308, 672: 1007, 673: 641, 674: 1165, 675: 764, 676: 1011, 677: 1101, 678: 396, 679: 1260, 680: 904, 681: 312, 682: 1048, 683: 627, 684: 571, 685: 552, 686: 1278, 687: 499, 688: 1186, 689: 1057, 690: 207, 691: 309, 692: 671, 693: 83, 694: 482, 695: 276, 696: 1094, 697: 647, 698: 578, 699: 1021, 700: 886, 701: 1151, 702: 855, 703: 942, 704: 826, 705: 1044, 706: 254, 707: 290, 708: 848, 709: 542, 710: 581, 711: 1229, 712: 718, 713: 337, 714: 1107, 715: 539, 716: 821, 717: 364, 718: 553, 719: 313, 720: 1218, 721: 115, 722: 1129, 723: 493, 724: 36, 725: 205, 726: 102, 727: 1249, 728: 773, 729: 494, 730: 192, 731: 687, 732: 772, 733: 921, 734: 42, 735: 469, 736: 874, 737: 1216, 738: 1139, 739: 547, 740: 157, 741: 1208, 742: 1157, 743: 808, 744: 906, 745: 535, 746: 470, 747: 714, 748: 939, 749: 738, 750: 525, 751: 340, 752: 1037, 753: 530, 754: 528, 755: 754, 756: 1436, 757: 771, 758: 226, 759: 1383, 760: 745, 761: 1316, 762: 846, 763: 605, 764: 575, 765: 1284, 766: 1298, 767: 529, 768: 743, 769: 840, 770: 244, 771: 760, 772: 1006, 773: 1228, 774: 1095, 775: 34, 776: 103, 777: 441, 778: 90, 779: 1005, 780: 863, 781: 473, 782: 1281, 783: 356, 784: 630, 785: 793, 786: 766, 787: 1206, 788: 1342, 789: 980, 790: 1263, 791: 1376, 792: 1182, 793: 457, 794: 710, 795: 615, 796: 101, 797: 697, 798: 1199, 799: 395, 800: 983, 801: 684, 802: 971, 803: 1116, 804: 267, 805: 556, 806: 853, 807: 311, 808: 1073, 809: 975, 810: 361, 811: 643, 812: 704, 813: 997, 814: 260, 815: 990, 816: 969, 817: 167, 818: 650, 819: 320, 820: 63, 821: 965, 822: 652, 823: 1059, 824: 882, 825: 1164, 826: 1207, 827: 786, 828: 614, 829: 810, 830: 1222, 831: 139, 832: 769, 833: 765, 834: 67, 835: 624, 836: 1001, 837: 797, 838: 883, 839: 752, 840: 1315, 841: 560, 842: 345, 843: 1194, 844: 464, 845: 1348, 846: 932, 847: 1179, 848: 536, 849: 369, 850: 1250, 851: 880, 852: 629, 853: 775, 854: 1289, 855: 544, 856: 170, 857: 1518, 858: 413, 859: 618, 860: 326, 861: 123, 862: 628, 863: 262, 864: 31, 865: 1180, 866: 414, 867: 490, 868: 839, 869: 453, 870: 149, 871: 1320, 872: 827, 873: 124, 874: 570, 875: 843, 876: 844, 877: 420, 878: 590, 879: 1230, 880: 1324, 881: 895, 882: 1149, 883: 567, 884: 606, 885: 816, 886: 672, 887: 584, 888: 521, 889: 728, 890: 689, 891: 329, 892: 859, 893: 456, 894: 791, 895: 159, 896: 489, 897: 1266, 898: 1416, 899: 988, 900: 636, 901: 1411, 902: 533, 903: 1394, 904: 819, 905: 495, 906: 1093, 907: 1492, 908: 30, 909: 314, 910: 958, 911: 841, 912: 838, 913: 702, 914: 1020, 915: 947, 916: 1000, 917: 104, 918: 1322, 919: 622, 920: 481, 921: 532, 922: 915, 923: 502, 924: 1291, 925: 330, 926: 802, 927: 37, 928: 1025, 929: 1364, 930: 266, 931: 727, 932: 828, 933: 548, 934: 1132, 935: 993, 936: 136, 937: 996, 938: 562, 939: 653, 940: 74, 941: 1493, 942: 45, 943: 867, 944: 876, 945: 158, 946: 1183, 947: 1118, 948: 500, 949: 610, 950: 887, 951: 1299, 952: 918, 953: 41, 954: 1066, 955: 336, 956: 1117, 957: 1169, 958: 1262, 959: 348, 960: 270, 961: 1053, 962: 1464, 963: 374, 964: 621, 965: 607, 966: 1030, 967: 777, 968: 700, 969: 297, 970: 925, 971: 928, 972: 394, 973: 549, 974: 999, 975: 1471, 976: 341, 977: 1009, 978: 391, 979: 467, 980: 811, 981: 805, 982: 519, 983: 1036, 984: 84, 985: 894, 986: 574, 987: 1113, 988: 1306, 989: 638, 990: 1314, 991: 1131, 992: 1069, 993: 1084, 994: 1407, 995: 878, 996: 1242, 997: 359, 998: 579, 999: 884, 1000: 691, 1001: 954, 1002: 261, 1003: 1112, 1004: 1090, 1005: 445, 1006: 108, 1007: 635, 1008: 1135, 1009: 76, 1010: 1082, 1011: 1215, 1012: 1328, 1013: 1013, 1014: 1170, 1015: 1265, 1016: 735, 1017: 352, 1018: 833, 1019: 722, 1020: 434, 1021: 801, 1022: 224, 1023: 358, 1024: 966, 1025: 1351, 1026: 675, 1027: 991, 1028: 633, 1029: 1102, 1030: 1424, 1031: 1163, 1032: 1413, 1033: 830, 1034: 924, 1035: 976, 1036: 825, 1037: 389, 1038: 1189, 1039: 978, 1040: 444, 1041: 1484, 1042: 362, 1043: 1442, 1044: 1419, 1045: 1241, 1046: 613, 1047: 656, 1048: 734, 1049: 946, 1050: 913, 1051: 1172, 1052: 1108, 1053: 1347, 1054: 1074, 1055: 1187, 1056: 856, 1057: 1212, 1058: 1105, 1059: 6, 1060: 964, 1061: 1043, 1062: 398, 1063: 694, 1064: 1072, 1065: 1141, 1066: 733, 1067: 1051, 1068: 1478, 1069: 19, 1070: 1210, 1071: 962, 1072: 1203, 1073: 563, 1074: 1097, 1075: 1292, 1076: 458, 1077: 871, 1078: 1062, 1079: 608, 1080: 788, 1081: 1508, 1082: 1283, 1083: 557, 1084: 936, 1085: 1362, 1086: 551, 1087: 1498, 1088: 782, 1089: 1225, 1090: 1050, 1091: 986, 1092: 1188, 1093: 1272, 1094: 1268, 1095: 415, 1096: 1372, 1097: 646, 1098: 902, 1099: 555, 1100: 383, 1101: 1239, 1102: 1277, 1103: 681, 1104: 934, 1105: 972, 1106: 1152, 1107: 645, 1108: 664, 1109: 795, 1110: 940, 1111: 1104, 1112: 783, 1113: 373, 1114: 713, 1115: 1126, 1116: 342, 1117: 1127, 1118: 1503, 1119: 818, 1120: 896, 1121: 351, 1122: 1004, 1123: 1008, 1124: 1106, 1125: 850, 1126: 1226, 1127: 639, 1128: 422, 1129: 910, 1130: 1500, 1131: 1463, 1132: 1002, 1133: 1495, 1134: 1401, 1135: 119, 1136: 1040, 1137: 1312, 1138: 537, 1139: 992, 1140: 1384, 1141: 1487, 1142: 1192, 1143: 1136, 1144: 1227, 1145: 865, 1146: 1128, 1147: 1371, 1148: 1032, 1149: 1071, 1150: 814, 1151: 503, 1152: 1253, 1153: 1318, 1154: 1378, 1155: 753, 1156: 1124, 1157: 1520, 1158: 1270, 1159: 1089, 1160: 1123, 1161: 1190, 1162: 1459, 1163: 1202, 1164: 637, 1165: 390, 1166: 349, 1167: 538, 1168: 601, 1169: 698, 1170: 1386, 1171: 1168, 1172: 1023, 1173: 437, 1174: 1276, 1175: 933, 1176: 1077, 1177: 968, 1178: 1120, 1179: 1221, 1180: 956, 1181: 353, 1182: 1244, 1183: 759, 1184: 1024, 1185: 1425, 1186: 1259, 1187: 711, 1188: 1409, 1189: 1254, 1190: 112, 1191: 1232, 1192: 888, 1193: 1213, 1194: 1258, 1195: 854, 1196: 236, 1197: 834, 1198: 1083, 1199: 1368, 1200: 889, 1201: 1466, 1202: 893, 1203: 776, 1204: 1390, 1205: 1282, 1206: 952, 1207: 1370, 1208: 907, 1209: 861, 1210: 1054, 1211: 46, 1212: 598, 1213: 1480, 1214: 1297, 1215: 1167, 1216: 1300, 1217: 1446, 1218: 784, 1219: 1143, 1220: 1294, 1221: 1373, 1222: 1489, 1223: 800, 1224: 1088, 1225: 989, 1226: 1085, 1227: 1473, 1228: 1303, 1229: 881, 1230: 1529, 1231: 1175, 1232: 594, 1233: 18, 1234: 1274, 1235: 970, 1236: 1479, 1237: 541, 1238: 1403, 1239: 1367, 1240: 388, 1241: 837, 1242: 1309, 1243: 1296, 1244: 565, 1245: 1045, 1246: 1166, 1247: 1427, 1248: 1385, 1249: 857, 1250: 822, 1251: 862, 1252: 1158, 1253: 967, 1254: 1087, 1255: 1449, 1256: 592, 1257: 890, 1258: 998, 1259: 985, 1260: 1231, 1261: 885, 1262: 669, 1263: 1438, 1264: 1068, 1265: 1219, 1266: 667, 1267: 545, 1268: 1140, 1269: 726, 1270: 1056, 1271: 1524, 1272: 247, 1273: 1430, 1274: 1236, 1275: 1361, 1276: 1285, 1277: 1058, 1278: 1247, 1279: 35, 1280: 1527, 1281: 916, 1282: 1301, 1283: 1374, 1284: 1148, 1285: 1388, 1286: 1353, 1287: 1125, 1288: 1485, 1289: 1530, 1290: 803, 1291: 1310, 1292: 1313, 1293: 1405, 1294: 459, 1295: 1469, 1296: 1387, 1297: 1536, 1298: 1582, 1299: 1343, 1300: 1457, 1301: 1404, 1302: 994, 1303: 1076, 1304: 1543, 1305: 1432, 1306: 1271, 1307: 1177, 1308: 1223, 1309: 1092, 1310: 1302, 1311: 599, 1312: 1443, 1313: 701, 1314: 706, 1315: 914, 1316: 130, 1317: 1195, 1318: 1417, 1319: 1357, 1320: 1273, 1321: 1578, 1322: 1396, 1323: 1398, 1324: 75, 1325: 534, 1326: 1458, 1327: 1379, 1328: 1279, 1329: 1330, 1330: 1439, 1331: 1338, 1332: 1354, 1333: 1554, 1334: 1193, 1335: 1561, 1336: 804, 1337: 668, 1338: 1075, 1339: 442, 1340: 1533, 1341: 1434, 1342: 1565, 1343: 1176, 1344: 1456, 1345: 1307, 1346: 1534, 1347: 1531, 1348: 400, 1349: 1421, 1350: 1369, 1351: 1455, 1352: 1257, 1353: 1555, 1354: 730, 1355: 1454, 1356: 1441, 1357: 1103, 1358: 1477, 1359: 1521, 1360: 1174, 1361: 1538, 1362: 1344, 1363: 798, 1364: 1392, 1365: 1517, 1366: 1377, 1367: 817, 1368: 1563, 1369: 1264, 1370: 1470, 1371: 1418, 1372: 1156, 1373: 1406, 1374: 1360, 1375: 935, 1376: 1275, 1377: 891, 1378: 1121, 1379: 1252, 1380: 1505, 1381: 1317, 1382: 1519, 1383: 1029, 1384: 912, 1385: 1200, 1386: 1305, 1387: 1400, 1388: 852, 1389: 1375, 1390: 1501, 1391: 1435, 1392: 1395, 1393: 1557, 1394: 1333, 1395: 1591, 1396: 1562, 1397: 1269, 1398: 909, 1399: 1450, 1400: 1550, 1401: 1154, 1402: 1237, 1403: 1261, 1404: 1586, 1405: 1038, 1406: 1504, 1407: 1214, 1408: 1522, 1409: 1238, 1410: 1064, 1411: 757, 1412: 1476, 1413: 1545, 1414: 1537, 1415: 1391, 1416: 296, 1417: 1472, 1418: 1580, 1419: 1331, 1420: 1363, 1421: 1280, 1422: 1138, 1423: 1308, 1424: 1339, 1425: 1523, 1426: 1080, 1427: 1096, 1428: 1512, 1429: 1287, 1430: 1483, 1431: 1566, 1432: 1031, 1433: 917, 1434: 920, 1435: 1589, 1436: 1293, 1437: 1349, 1438: 1422, 1439: 1389, 1440: 1290, 1441: 1447, 1442: 1111, 1443: 1513, 1444: 1235, 1445: 1412, 1446: 1185, 1447: 1337, 1448: 1592, 1449: 1399, 1450: 1547, 1451: 1420, 1452: 1173, 1453: 1159, 1454: 1506, 1455: 1468, 1456: 1355, 1457: 1437, 1458: 1304, 1459: 1359, 1460: 1204, 1461: 1426, 1462: 1588, 1463: 1590, 1464: 1608, 1465: 1617, 1466: 1026, 1467: 1311, 1468: 957, 1469: 1326, 1470: 1587, 1471: 1496, 1472: 981, 1473: 899, 1474: 1560, 1475: 677, 1476: 1571, 1477: 1549, 1478: 1402, 1479: 1598, 1480: 1514, 1481: 1558, 1482: 1415, 1483: 1528, 1484: 1575, 1485: 1510, 1486: 438, 1487: 1597, 1488: 1579, 1489: 600, 1490: 1499, 1491: 446, 1492: 1205, 1493: 1191, 1494: 1445, 1495: 1603, 1496: 1616, 1497: 1465, 1498: 1146, 1499: 1539, 1500: 1255, 1501: 1526, 1502: 1585, 1503: 1596, 1504: 1605, 1505: 1453, 1506: 1488, 1507: 1516, 1508: 1461, 1509: 973, 1510: 1553, 1511: 1559, 1512: 1431, 1513: 851, 1514: 666, 1515: 1532, 1516: 1507, 1517: 1540, 1518: 1593, 1519: 1243, 1520: 1623, 1521: 1576, 1522: 1511, 1523: 1525, 1524: 1569, 1525: 1568, 1526: 1408, 1527: 1602, 1528: 1381, 1529: 1340, 1530: 1055, 1531: 1440, 1532: 1358, 1533: 1502, 1534: 1171, 1535: 1619, 1536: 1319, 1537: 1601, 1538: 1620, 1539: 1474, 1540: 1145, 1541: 1155, 1542: 799, 1543: 1535, 1544: 1615, 1545: 1583, 1546: 1475, 1547: 1624, 1548: 1234, 1549: 1323, 1550: 1541, 1551: 1609, 1552: 1651, 1553: 1414, 1554: 1486, 1555: 1552, 1556: 1614, 1557: 1570, 1558: 1335, 1559: 1251, 1560: 1233, 1561: 1612, 1562: 1599, 1563: 1607, 1564: 1345, 1565: 1649, 1566: 1656, 1567: 1321, 1568: 1380, 1569: 1491, 1570: 1610, 1571: 1642, 1572: 1572, 1573: 1629, 1574: 1481, 1575: 1628, 1576: 1144, 1577: 1490, 1578: 1600, 1579: 1653, 1580: 1452, 1581: 1644, 1582: 1595, 1583: 1410, 1584: 1548, 1585: 1655, 1586: 1654, 1587: 1027, 1588: 1482, 1589: 1657, 1590: 1639, 1591: 1650, 1592: 1196, 1593: 1660, 1594: 1509, 1595: 897, 1596: 1365, 1597: 1661, 1598: 1423, 1599: 1515, 1600: 1658, 1601: 1621, 1602: 1662, 1603: 1646, 1604: 1632, 1605: 1618, 1606: 1647, 1607: 1429, 1608: 1643, 1609: 987, 1610: 1581, 1611: 1584, 1612: 1669, 1613: 1664, 1614: 1613, 1615: 911, 1616: 1130, 1617: 1663, 1618: 1652, 1619: 1467, 1620: 1634, 1621: 1256, 1622: 1606, 1623: 1544, 1624: 1622, 1625: 1329, 1626: 1494, 1627: 1672, 1628: 1673, 1629: 1382, 1630: 1633, 1631: 1677, 1632: 1679, 1633: 1577, 1634: 1666, 1635: 1356, 1636: 1635, 1637: 1433, 1638: 1648, 1639: 1573, 1640: 1551, 1641: 1631, 1642: 1542, 1643: 1556, 1644: 1678, 1645: 1567, 1646: 1122, 1647: 1201, 1648: 1546, 1649: 1627, 1650: 1676, 1651: 1680, 1652: 1366, 1653: 1611, 1654: 1668, 1655: 1564, 1656: 1604, 1657: 1574, 1658: 1448, 1659: 1671, 1660: 1625, 1661: 1665, 1662: 1325, 1663: 1670, 1664: 1341, 1665: 1352, 1666: 1636, 1667: 1681, 1668: 1638, 1669: 1667, 1670: 1675, 1671: 1460, 1672: 1594, 1673: 1626, 1674: 1645, 1675: 1659, 1676: 1682, 1677: 1674, 1678: 1640, 1679: 1637, 1680: 1630, 1681: 1641}\n"
          ]
        }
      ]
    },
    {
      "cell_type": "markdown",
      "source": [
        "Berikutnya, petakan user_idd dan item_id ke dataframe yang berkaitan."
      ],
      "metadata": {
        "id": "lF1b9V2Lc3TW"
      }
    },
    {
      "cell_type": "code",
      "source": [
        "# Mapping user_id ke dataframe user\n",
        "df['user'] = df['user_id'].map(user_to_user_encoded)\n",
        " \n",
        "# Mapping item_id ke dataframe movie\n",
        "df['movie'] = df['item_id'].map(movie_to_movie_encoded)"
      ],
      "metadata": {
        "id": "9SDY6Jtlc45H"
      },
      "execution_count": 17,
      "outputs": []
    },
    {
      "cell_type": "markdown",
      "source": [
        "Terakhir, cek beberapa hal dalam data seperti jumlah user, jumlah movie, dan mengubah nilai rating menjadi float."
      ],
      "metadata": {
        "id": "FLuWo50-c7-2"
      }
    },
    {
      "cell_type": "code",
      "source": [
        "# Mendapatkan jumlah user\n",
        "num_users = len(user_to_user_encoded)\n",
        "print(num_users)\n",
        " \n",
        "# Mendapatkan jumlah movie\n",
        "num_movie = len(movie_encoded_to_movie)\n",
        "print(num_movie)\n",
        " \n",
        "# Mengubah rating menjadi nilai float\n",
        "df['rating'] = df['rating'].values.astype(np.float32)\n",
        " \n",
        "# Nilai minimum rating\n",
        "min_rating = min(df['rating'])\n",
        " \n",
        "# Nilai maksimal rating\n",
        "max_rating = max(df['rating'])\n",
        " \n",
        "print('Number of User: {}, Number of Movie: {}, Min Rating: {}, Max Rating: {}'.format(\n",
        "    num_users, num_movie, min_rating, max_rating\n",
        "))"
      ],
      "metadata": {
        "colab": {
          "base_uri": "https://localhost:8080/"
        },
        "id": "ies5XEj9c9aG",
        "outputId": "5b9da6fc-7dd6-44d1-e46e-00e20b1953ff"
      },
      "execution_count": 18,
      "outputs": [
        {
          "output_type": "stream",
          "name": "stdout",
          "text": [
            "944\n",
            "1682\n",
            "Number of User: 944, Number of Movie: 1682, Min Rating: 1.0, Max Rating: 5.0\n"
          ]
        }
      ]
    },
    {
      "cell_type": "markdown",
      "source": [
        "### Membagi Data untuk Training dan Validasi"
      ],
      "metadata": {
        "id": "Eqr1CopcdA_G"
      }
    },
    {
      "cell_type": "markdown",
      "source": [
        "Pada tahap ini kita akan melakukan pembagian data menjadi data training dan validasi. Betul! Namun sebelumnya, acak datanya terlebih dahulu agar distribusinya menjadi random."
      ],
      "metadata": {
        "id": "Ch5paAWGdBkm"
      }
    },
    {
      "cell_type": "code",
      "source": [
        "# Mengacak dataset\n",
        "df = df.sample(frac=1, random_state=42)\n",
        "df"
      ],
      "metadata": {
        "colab": {
          "base_uri": "https://localhost:8080/",
          "height": 424
        },
        "id": "UVbj2g-cdEi3",
        "outputId": "9f5dbf3e-13fc-45fe-ee2e-ef33d0f4f427"
      },
      "execution_count": 19,
      "outputs": [
        {
          "output_type": "execute_result",
          "data": {
            "text/plain": [
              "       user_id  item_id  rating  timestamp  user  movie\n",
              "87184      330      228     5.0  876547220   316    184\n",
              "98871      894      318     5.0  879897168   893    202\n",
              "1956       199      258     4.0  883782403   260    160\n",
              "11529      181     1374     1.0  878962391    36   1283\n",
              "39495      314     1016     4.0  877886483   265     90\n",
              "...        ...      ...     ...        ...   ...    ...\n",
              "6265       279      216     3.0  884983225    76    168\n",
              "54886      815      173     5.0  878695241   809    322\n",
              "76820      671      550     3.0  884035406   669    368\n",
              "860         79       50     4.0  891271545   210      0\n",
              "15795      200      652     2.0  884127370    13    822\n",
              "\n",
              "[100003 rows x 6 columns]"
            ],
            "text/html": [
              "\n",
              "  <div id=\"df-a00c9469-312c-443e-910c-934597760840\">\n",
              "    <div class=\"colab-df-container\">\n",
              "      <div>\n",
              "<style scoped>\n",
              "    .dataframe tbody tr th:only-of-type {\n",
              "        vertical-align: middle;\n",
              "    }\n",
              "\n",
              "    .dataframe tbody tr th {\n",
              "        vertical-align: top;\n",
              "    }\n",
              "\n",
              "    .dataframe thead th {\n",
              "        text-align: right;\n",
              "    }\n",
              "</style>\n",
              "<table border=\"1\" class=\"dataframe\">\n",
              "  <thead>\n",
              "    <tr style=\"text-align: right;\">\n",
              "      <th></th>\n",
              "      <th>user_id</th>\n",
              "      <th>item_id</th>\n",
              "      <th>rating</th>\n",
              "      <th>timestamp</th>\n",
              "      <th>user</th>\n",
              "      <th>movie</th>\n",
              "    </tr>\n",
              "  </thead>\n",
              "  <tbody>\n",
              "    <tr>\n",
              "      <th>87184</th>\n",
              "      <td>330</td>\n",
              "      <td>228</td>\n",
              "      <td>5.0</td>\n",
              "      <td>876547220</td>\n",
              "      <td>316</td>\n",
              "      <td>184</td>\n",
              "    </tr>\n",
              "    <tr>\n",
              "      <th>98871</th>\n",
              "      <td>894</td>\n",
              "      <td>318</td>\n",
              "      <td>5.0</td>\n",
              "      <td>879897168</td>\n",
              "      <td>893</td>\n",
              "      <td>202</td>\n",
              "    </tr>\n",
              "    <tr>\n",
              "      <th>1956</th>\n",
              "      <td>199</td>\n",
              "      <td>258</td>\n",
              "      <td>4.0</td>\n",
              "      <td>883782403</td>\n",
              "      <td>260</td>\n",
              "      <td>160</td>\n",
              "    </tr>\n",
              "    <tr>\n",
              "      <th>11529</th>\n",
              "      <td>181</td>\n",
              "      <td>1374</td>\n",
              "      <td>1.0</td>\n",
              "      <td>878962391</td>\n",
              "      <td>36</td>\n",
              "      <td>1283</td>\n",
              "    </tr>\n",
              "    <tr>\n",
              "      <th>39495</th>\n",
              "      <td>314</td>\n",
              "      <td>1016</td>\n",
              "      <td>4.0</td>\n",
              "      <td>877886483</td>\n",
              "      <td>265</td>\n",
              "      <td>90</td>\n",
              "    </tr>\n",
              "    <tr>\n",
              "      <th>...</th>\n",
              "      <td>...</td>\n",
              "      <td>...</td>\n",
              "      <td>...</td>\n",
              "      <td>...</td>\n",
              "      <td>...</td>\n",
              "      <td>...</td>\n",
              "    </tr>\n",
              "    <tr>\n",
              "      <th>6265</th>\n",
              "      <td>279</td>\n",
              "      <td>216</td>\n",
              "      <td>3.0</td>\n",
              "      <td>884983225</td>\n",
              "      <td>76</td>\n",
              "      <td>168</td>\n",
              "    </tr>\n",
              "    <tr>\n",
              "      <th>54886</th>\n",
              "      <td>815</td>\n",
              "      <td>173</td>\n",
              "      <td>5.0</td>\n",
              "      <td>878695241</td>\n",
              "      <td>809</td>\n",
              "      <td>322</td>\n",
              "    </tr>\n",
              "    <tr>\n",
              "      <th>76820</th>\n",
              "      <td>671</td>\n",
              "      <td>550</td>\n",
              "      <td>3.0</td>\n",
              "      <td>884035406</td>\n",
              "      <td>669</td>\n",
              "      <td>368</td>\n",
              "    </tr>\n",
              "    <tr>\n",
              "      <th>860</th>\n",
              "      <td>79</td>\n",
              "      <td>50</td>\n",
              "      <td>4.0</td>\n",
              "      <td>891271545</td>\n",
              "      <td>210</td>\n",
              "      <td>0</td>\n",
              "    </tr>\n",
              "    <tr>\n",
              "      <th>15795</th>\n",
              "      <td>200</td>\n",
              "      <td>652</td>\n",
              "      <td>2.0</td>\n",
              "      <td>884127370</td>\n",
              "      <td>13</td>\n",
              "      <td>822</td>\n",
              "    </tr>\n",
              "  </tbody>\n",
              "</table>\n",
              "<p>100003 rows × 6 columns</p>\n",
              "</div>\n",
              "      <button class=\"colab-df-convert\" onclick=\"convertToInteractive('df-a00c9469-312c-443e-910c-934597760840')\"\n",
              "              title=\"Convert this dataframe to an interactive table.\"\n",
              "              style=\"display:none;\">\n",
              "        \n",
              "  <svg xmlns=\"http://www.w3.org/2000/svg\" height=\"24px\"viewBox=\"0 0 24 24\"\n",
              "       width=\"24px\">\n",
              "    <path d=\"M0 0h24v24H0V0z\" fill=\"none\"/>\n",
              "    <path d=\"M18.56 5.44l.94 2.06.94-2.06 2.06-.94-2.06-.94-.94-2.06-.94 2.06-2.06.94zm-11 1L8.5 8.5l.94-2.06 2.06-.94-2.06-.94L8.5 2.5l-.94 2.06-2.06.94zm10 10l.94 2.06.94-2.06 2.06-.94-2.06-.94-.94-2.06-.94 2.06-2.06.94z\"/><path d=\"M17.41 7.96l-1.37-1.37c-.4-.4-.92-.59-1.43-.59-.52 0-1.04.2-1.43.59L10.3 9.45l-7.72 7.72c-.78.78-.78 2.05 0 2.83L4 21.41c.39.39.9.59 1.41.59.51 0 1.02-.2 1.41-.59l7.78-7.78 2.81-2.81c.8-.78.8-2.07 0-2.86zM5.41 20L4 18.59l7.72-7.72 1.47 1.35L5.41 20z\"/>\n",
              "  </svg>\n",
              "      </button>\n",
              "      \n",
              "  <style>\n",
              "    .colab-df-container {\n",
              "      display:flex;\n",
              "      flex-wrap:wrap;\n",
              "      gap: 12px;\n",
              "    }\n",
              "\n",
              "    .colab-df-convert {\n",
              "      background-color: #E8F0FE;\n",
              "      border: none;\n",
              "      border-radius: 50%;\n",
              "      cursor: pointer;\n",
              "      display: none;\n",
              "      fill: #1967D2;\n",
              "      height: 32px;\n",
              "      padding: 0 0 0 0;\n",
              "      width: 32px;\n",
              "    }\n",
              "\n",
              "    .colab-df-convert:hover {\n",
              "      background-color: #E2EBFA;\n",
              "      box-shadow: 0px 1px 2px rgba(60, 64, 67, 0.3), 0px 1px 3px 1px rgba(60, 64, 67, 0.15);\n",
              "      fill: #174EA6;\n",
              "    }\n",
              "\n",
              "    [theme=dark] .colab-df-convert {\n",
              "      background-color: #3B4455;\n",
              "      fill: #D2E3FC;\n",
              "    }\n",
              "\n",
              "    [theme=dark] .colab-df-convert:hover {\n",
              "      background-color: #434B5C;\n",
              "      box-shadow: 0px 1px 3px 1px rgba(0, 0, 0, 0.15);\n",
              "      filter: drop-shadow(0px 1px 2px rgba(0, 0, 0, 0.3));\n",
              "      fill: #FFFFFF;\n",
              "    }\n",
              "  </style>\n",
              "\n",
              "      <script>\n",
              "        const buttonEl =\n",
              "          document.querySelector('#df-a00c9469-312c-443e-910c-934597760840 button.colab-df-convert');\n",
              "        buttonEl.style.display =\n",
              "          google.colab.kernel.accessAllowed ? 'block' : 'none';\n",
              "\n",
              "        async function convertToInteractive(key) {\n",
              "          const element = document.querySelector('#df-a00c9469-312c-443e-910c-934597760840');\n",
              "          const dataTable =\n",
              "            await google.colab.kernel.invokeFunction('convertToInteractive',\n",
              "                                                     [key], {});\n",
              "          if (!dataTable) return;\n",
              "\n",
              "          const docLinkHtml = 'Like what you see? Visit the ' +\n",
              "            '<a target=\"_blank\" href=https://colab.research.google.com/notebooks/data_table.ipynb>data table notebook</a>'\n",
              "            + ' to learn more about interactive tables.';\n",
              "          element.innerHTML = '';\n",
              "          dataTable['output_type'] = 'display_data';\n",
              "          await google.colab.output.renderOutput(dataTable, element);\n",
              "          const docLink = document.createElement('div');\n",
              "          docLink.innerHTML = docLinkHtml;\n",
              "          element.appendChild(docLink);\n",
              "        }\n",
              "      </script>\n",
              "    </div>\n",
              "  </div>\n",
              "  "
            ]
          },
          "metadata": {},
          "execution_count": 19
        }
      ]
    },
    {
      "cell_type": "markdown",
      "source": [
        "Selanjutnya, kita bagi data train dan validasi dengan komposisi 99:1. Namun sebelumnya, kita perlu memetakan (mapping) data user dan movie menjadi satu value terlebih dahulu. Lalu, buatlah rating dalam skala 0 sampai 1 agar mudah dalam melakukan proses training."
      ],
      "metadata": {
        "id": "XSe3HrOSdE3e"
      }
    },
    {
      "cell_type": "code",
      "source": [
        "# Membuat variabel x untuk mencocokkan data user dan movie menjadi satu value\n",
        "x = df[['user', 'movie']].values\n",
        " \n",
        "# Membuat variabel y untuk membuat rating dari hasil \n",
        "y = df['rating'].apply(lambda x: (x - min_rating) / (max_rating - min_rating)).values\n",
        " \n",
        "# Membagi menjadi 80% data train dan 20% data validasi\n",
        "train_indices = int(0.99 * df.shape[0])\n",
        "x_train, x_val, y_train, y_val = (\n",
        "    x[:train_indices],\n",
        "    x[train_indices:],\n",
        "    y[:train_indices],\n",
        "    y[train_indices:]\n",
        ")\n",
        " \n",
        "print(x, y)"
      ],
      "metadata": {
        "colab": {
          "base_uri": "https://localhost:8080/"
        },
        "id": "izAJWYardGum",
        "outputId": "02acbfdb-7235-4ae8-8dcb-6b77245f4402"
      },
      "execution_count": 20,
      "outputs": [
        {
          "output_type": "stream",
          "name": "stdout",
          "text": [
            "[[316 184]\n",
            " [893 202]\n",
            " [260 160]\n",
            " ...\n",
            " [669 368]\n",
            " [210   0]\n",
            " [ 13 822]] [1.   1.   0.75 ... 0.5  0.75 0.25]\n"
          ]
        }
      ]
    },
    {
      "cell_type": "markdown",
      "source": [
        "## Modeling"
      ],
      "metadata": {
        "id": "befij1A6sOtG"
      }
    },
    {
      "cell_type": "markdown",
      "source": [
        "Pada tahap ini, kita akan mengembangkan model machine learning dengan menerapkan teknik collaborative filtering pada data."
      ],
      "metadata": {
        "id": "qY_svCe1tEDr"
      }
    },
    {
      "cell_type": "markdown",
      "source": [
        "### Proses Training"
      ],
      "metadata": {
        "id": "-d_MsOVzdHYO"
      }
    },
    {
      "cell_type": "markdown",
      "source": [
        "Pada tahap ini, model menghitung skor kecocokan antara pengguna dan movie dengan teknik embedding. Pertama, kita melakukan proses embedding terhadap data user dan movie. Selanjutnya, lakukan operasi perkalian dot product antara embedding user dan movie. Selain itu, kita juga dapat menambahkan bias untuk setiap user dan movie. Skor kecocokan ditetapkan dalam skala [0,1] dengan fungsi aktivasi sigmoid.\n",
        "\n",
        "Di sini, kita membuat class RecommenderNet dengan keras Model class. Kode class RecommenderNet ini terinspirasi dari tutorial dalam situs Keras dengan beberapa adaptasi sesuai kasus yang sedang kita selesaikan."
      ],
      "metadata": {
        "id": "Y5yqyETYdJOe"
      }
    },
    {
      "cell_type": "code",
      "source": [
        "class RecommenderNet(tf.keras.Model):\n",
        " \n",
        "  # Insialisasi fungsi\n",
        "  def __init__(self, num_users, num_movie, embedding_size, **kwargs):\n",
        "    super(RecommenderNet, self).__init__(**kwargs)\n",
        "    self.num_users = num_users\n",
        "    self.num_movie = num_movie\n",
        "    self.embedding_size = embedding_size\n",
        "    self.user_embedding = layers.Embedding( # layer embedding user\n",
        "        num_users,\n",
        "        embedding_size,\n",
        "        embeddings_initializer = 'he_normal',\n",
        "        embeddings_regularizer = keras.regularizers.l2(1e-6)\n",
        "    )\n",
        "    self.user_bias = layers.Embedding(num_users, 1) # layer embedding user bias\n",
        "    self.movie_embedding = layers.Embedding( # layer embeddings movie\n",
        "        num_movie,\n",
        "        embedding_size,\n",
        "        embeddings_initializer = 'he_normal',\n",
        "        embeddings_regularizer = keras.regularizers.l2(1e-6)\n",
        "    )\n",
        "    self.movie_bias = layers.Embedding(num_movie, 1) # layer embedding movie bias\n",
        " \n",
        "  def call(self, inputs):\n",
        "    user_vector = self.user_embedding(inputs[:,0]) # memanggil layer embedding 1\n",
        "    user_bias = self.user_bias(inputs[:, 0]) # memanggil layer embedding 2\n",
        "    movie_vector = self.movie_embedding(inputs[:, 1]) # memanggil layer embedding 3\n",
        "    movie_bias = self.movie_bias(inputs[:, 1]) # memanggil layer embedding 4\n",
        " \n",
        "    dot_user_movie = tf.tensordot(user_vector, movie_vector, 2) \n",
        " \n",
        "    x = dot_user_movie + user_bias + movie_bias\n",
        "    \n",
        "    return tf.nn.sigmoid(x) # activation sigmoid"
      ],
      "metadata": {
        "id": "5Xi0OiqWdK5Q"
      },
      "execution_count": 21,
      "outputs": []
    },
    {
      "cell_type": "markdown",
      "source": [
        "Selanjutnya, lakukan proses compile terhadap model."
      ],
      "metadata": {
        "id": "cpJ96mErdNA-"
      }
    },
    {
      "cell_type": "code",
      "source": [
        "model = RecommenderNet(num_users, num_movie, 50) # inisialisasi model\n",
        " \n",
        "# model compile\n",
        "model.compile(\n",
        "    loss = tf.keras.losses.BinaryCrossentropy(),\n",
        "    optimizer = keras.optimizers.Adam(learning_rate=0.001),\n",
        "    metrics=[tf.keras.metrics.RootMeanSquaredError()]\n",
        ")"
      ],
      "metadata": {
        "id": "poPqfauldN9G"
      },
      "execution_count": 22,
      "outputs": []
    },
    {
      "cell_type": "markdown",
      "source": [
        "Model ini menggunakan Binary Crossentropy untuk menghitung loss function, Adam (Adaptive Moment Estimation) sebagai optimizer, dan root mean squared error (RMSE) sebagai metrics evaluation. \n",
        "\n",
        "Langkah berikutnya, mulailah proses training. "
      ],
      "metadata": {
        "id": "y8DCv_eAdOZe"
      }
    },
    {
      "cell_type": "code",
      "source": [
        "# Memulai training\n",
        " \n",
        "history = model.fit(\n",
        "    x = x_train,\n",
        "    y = y_train,\n",
        "    batch_size = 512,\n",
        "    epochs = 80,\n",
        "    validation_data = (x_val, y_val)\n",
        ")"
      ],
      "metadata": {
        "colab": {
          "base_uri": "https://localhost:8080/"
        },
        "id": "Mmg8bpY0dP8_",
        "outputId": "0ae4abb8-5ff3-4fcb-dc31-990079c33684"
      },
      "execution_count": 33,
      "outputs": [
        {
          "output_type": "stream",
          "name": "stdout",
          "text": [
            "Epoch 1/80\n",
            "194/194 [==============================] - 1s 6ms/step - loss: 0.6253 - root_mean_squared_error: 0.2538 - val_loss: 0.6203 - val_root_mean_squared_error: 0.2445\n",
            "Epoch 2/80\n",
            "194/194 [==============================] - 1s 7ms/step - loss: 0.6305 - root_mean_squared_error: 0.2526 - val_loss: 0.6207 - val_root_mean_squared_error: 0.2448\n",
            "Epoch 3/80\n",
            "194/194 [==============================] - 1s 6ms/step - loss: 0.6294 - root_mean_squared_error: 0.2575 - val_loss: 0.6187 - val_root_mean_squared_error: 0.2433\n",
            "Epoch 4/80\n",
            "194/194 [==============================] - 1s 5ms/step - loss: 0.6334 - root_mean_squared_error: 0.2548 - val_loss: 0.6197 - val_root_mean_squared_error: 0.2453\n",
            "Epoch 5/80\n",
            "194/194 [==============================] - 1s 6ms/step - loss: 0.6267 - root_mean_squared_error: 0.2552 - val_loss: 0.6209 - val_root_mean_squared_error: 0.2445\n",
            "Epoch 6/80\n",
            "194/194 [==============================] - 1s 5ms/step - loss: 0.6282 - root_mean_squared_error: 0.2515 - val_loss: 0.6165 - val_root_mean_squared_error: 0.2424\n",
            "Epoch 7/80\n",
            "194/194 [==============================] - 1s 6ms/step - loss: 0.6180 - root_mean_squared_error: 0.2476 - val_loss: 0.6168 - val_root_mean_squared_error: 0.2418\n",
            "Epoch 8/80\n",
            "194/194 [==============================] - 1s 6ms/step - loss: 0.6163 - root_mean_squared_error: 0.2432 - val_loss: 0.6168 - val_root_mean_squared_error: 0.2424\n",
            "Epoch 9/80\n",
            "194/194 [==============================] - 1s 6ms/step - loss: 0.6093 - root_mean_squared_error: 0.2396 - val_loss: 0.6164 - val_root_mean_squared_error: 0.2417\n",
            "Epoch 10/80\n",
            "194/194 [==============================] - 1s 5ms/step - loss: 0.6079 - root_mean_squared_error: 0.2368 - val_loss: 0.6158 - val_root_mean_squared_error: 0.2414\n",
            "Epoch 11/80\n",
            "194/194 [==============================] - 1s 6ms/step - loss: 0.6054 - root_mean_squared_error: 0.2360 - val_loss: 0.6146 - val_root_mean_squared_error: 0.2405\n",
            "Epoch 12/80\n",
            "194/194 [==============================] - 1s 6ms/step - loss: 0.6055 - root_mean_squared_error: 0.2350 - val_loss: 0.6142 - val_root_mean_squared_error: 0.2403\n",
            "Epoch 13/80\n",
            "194/194 [==============================] - 1s 6ms/step - loss: 0.6049 - root_mean_squared_error: 0.2356 - val_loss: 0.6142 - val_root_mean_squared_error: 0.2402\n",
            "Epoch 14/80\n",
            "194/194 [==============================] - 1s 6ms/step - loss: 0.6060 - root_mean_squared_error: 0.2355 - val_loss: 0.6142 - val_root_mean_squared_error: 0.2407\n",
            "Epoch 15/80\n",
            "194/194 [==============================] - 1s 6ms/step - loss: 0.6051 - root_mean_squared_error: 0.2358 - val_loss: 0.6163 - val_root_mean_squared_error: 0.2416\n",
            "Epoch 16/80\n",
            "194/194 [==============================] - 1s 6ms/step - loss: 0.6059 - root_mean_squared_error: 0.2354 - val_loss: 0.6151 - val_root_mean_squared_error: 0.2421\n",
            "Epoch 17/80\n",
            "194/194 [==============================] - 1s 6ms/step - loss: 0.6036 - root_mean_squared_error: 0.2344 - val_loss: 0.6188 - val_root_mean_squared_error: 0.2435\n",
            "Epoch 18/80\n",
            "194/194 [==============================] - 1s 6ms/step - loss: 0.6026 - root_mean_squared_error: 0.2327 - val_loss: 0.6125 - val_root_mean_squared_error: 0.2397\n",
            "Epoch 19/80\n",
            "194/194 [==============================] - 1s 3ms/step - loss: 0.6023 - root_mean_squared_error: 0.2332 - val_loss: 0.6177 - val_root_mean_squared_error: 0.2428\n",
            "Epoch 20/80\n",
            "194/194 [==============================] - 1s 3ms/step - loss: 0.6020 - root_mean_squared_error: 0.2323 - val_loss: 0.6155 - val_root_mean_squared_error: 0.2429\n",
            "Epoch 21/80\n",
            "194/194 [==============================] - 1s 3ms/step - loss: 0.6009 - root_mean_squared_error: 0.2318 - val_loss: 0.6149 - val_root_mean_squared_error: 0.2408\n",
            "Epoch 22/80\n",
            "194/194 [==============================] - 1s 3ms/step - loss: 0.6007 - root_mean_squared_error: 0.2312 - val_loss: 0.6151 - val_root_mean_squared_error: 0.2425\n",
            "Epoch 23/80\n",
            "194/194 [==============================] - 1s 3ms/step - loss: 0.6004 - root_mean_squared_error: 0.2313 - val_loss: 0.6146 - val_root_mean_squared_error: 0.2406\n",
            "Epoch 24/80\n",
            "194/194 [==============================] - 1s 3ms/step - loss: 0.5998 - root_mean_squared_error: 0.2305 - val_loss: 0.6132 - val_root_mean_squared_error: 0.2407\n",
            "Epoch 25/80\n",
            "194/194 [==============================] - 1s 3ms/step - loss: 0.5994 - root_mean_squared_error: 0.2304 - val_loss: 0.6145 - val_root_mean_squared_error: 0.2405\n",
            "Epoch 26/80\n",
            "194/194 [==============================] - 1s 3ms/step - loss: 0.5997 - root_mean_squared_error: 0.2304 - val_loss: 0.6151 - val_root_mean_squared_error: 0.2426\n",
            "Epoch 27/80\n",
            "194/194 [==============================] - 1s 3ms/step - loss: 0.5989 - root_mean_squared_error: 0.2299 - val_loss: 0.6148 - val_root_mean_squared_error: 0.2409\n",
            "Epoch 28/80\n",
            "194/194 [==============================] - 1s 3ms/step - loss: 0.5993 - root_mean_squared_error: 0.2301 - val_loss: 0.6123 - val_root_mean_squared_error: 0.2397\n",
            "Epoch 29/80\n",
            "194/194 [==============================] - 1s 3ms/step - loss: 0.5991 - root_mean_squared_error: 0.2301 - val_loss: 0.6180 - val_root_mean_squared_error: 0.2432\n",
            "Epoch 30/80\n",
            "194/194 [==============================] - 1s 3ms/step - loss: 0.5996 - root_mean_squared_error: 0.2303 - val_loss: 0.6149 - val_root_mean_squared_error: 0.2424\n",
            "Epoch 31/80\n",
            "194/194 [==============================] - 1s 3ms/step - loss: 0.5994 - root_mean_squared_error: 0.2304 - val_loss: 0.6164 - val_root_mean_squared_error: 0.2419\n",
            "Epoch 32/80\n",
            "194/194 [==============================] - 1s 3ms/step - loss: 0.6004 - root_mean_squared_error: 0.2311 - val_loss: 0.6120 - val_root_mean_squared_error: 0.2396\n",
            "Epoch 33/80\n",
            "194/194 [==============================] - 1s 3ms/step - loss: 0.6006 - root_mean_squared_error: 0.2315 - val_loss: 0.6227 - val_root_mean_squared_error: 0.2464\n",
            "Epoch 34/80\n",
            "194/194 [==============================] - 1s 3ms/step - loss: 0.6031 - root_mean_squared_error: 0.2334 - val_loss: 0.6141 - val_root_mean_squared_error: 0.2416\n",
            "Epoch 35/80\n",
            "194/194 [==============================] - 1s 3ms/step - loss: 0.6135 - root_mean_squared_error: 0.2431 - val_loss: 0.6950 - val_root_mean_squared_error: 0.2915\n",
            "Epoch 36/80\n",
            "194/194 [==============================] - 1s 3ms/step - loss: 0.6425 - root_mean_squared_error: 0.2616 - val_loss: 0.6384 - val_root_mean_squared_error: 0.2639\n",
            "Epoch 37/80\n",
            "194/194 [==============================] - 1s 3ms/step - loss: 0.6973 - root_mean_squared_error: 0.3035 - val_loss: 0.8753 - val_root_mean_squared_error: 0.3474\n",
            "Epoch 38/80\n",
            "194/194 [==============================] - 1s 3ms/step - loss: 0.7521 - root_mean_squared_error: 0.3071 - val_loss: 0.8618 - val_root_mean_squared_error: 0.3936\n",
            "Epoch 39/80\n",
            "194/194 [==============================] - 1s 3ms/step - loss: 0.8243 - root_mean_squared_error: 0.3639 - val_loss: 1.0524 - val_root_mean_squared_error: 0.3917\n",
            "Epoch 40/80\n",
            "194/194 [==============================] - 1s 3ms/step - loss: 0.9489 - root_mean_squared_error: 0.3579 - val_loss: 1.0000 - val_root_mean_squared_error: 0.4594\n",
            "Epoch 41/80\n",
            "194/194 [==============================] - 1s 3ms/step - loss: 0.9731 - root_mean_squared_error: 0.4204 - val_loss: 1.1168 - val_root_mean_squared_error: 0.4029\n",
            "Epoch 42/80\n",
            "194/194 [==============================] - 1s 3ms/step - loss: 1.1081 - root_mean_squared_error: 0.3933 - val_loss: 0.6703 - val_root_mean_squared_error: 0.2888\n",
            "Epoch 43/80\n",
            "194/194 [==============================] - 1s 3ms/step - loss: 0.9250 - root_mean_squared_error: 0.4187 - val_loss: 0.7132 - val_root_mean_squared_error: 0.2962\n",
            "Epoch 44/80\n",
            "194/194 [==============================] - 1s 3ms/step - loss: 0.9346 - root_mean_squared_error: 0.3650 - val_loss: 0.6175 - val_root_mean_squared_error: 0.2418\n",
            "Epoch 45/80\n",
            "194/194 [==============================] - 1s 3ms/step - loss: 0.6834 - root_mean_squared_error: 0.2973 - val_loss: 0.6200 - val_root_mean_squared_error: 0.2433\n",
            "Epoch 46/80\n",
            "194/194 [==============================] - 1s 3ms/step - loss: 0.6720 - root_mean_squared_error: 0.2749 - val_loss: 0.6232 - val_root_mean_squared_error: 0.2453\n",
            "Epoch 47/80\n",
            "194/194 [==============================] - 1s 3ms/step - loss: 0.6415 - root_mean_squared_error: 0.2663 - val_loss: 0.6222 - val_root_mean_squared_error: 0.2446\n",
            "Epoch 48/80\n",
            "194/194 [==============================] - 1s 3ms/step - loss: 0.6422 - root_mean_squared_error: 0.2585 - val_loss: 0.6241 - val_root_mean_squared_error: 0.2459\n",
            "Epoch 49/80\n",
            "194/194 [==============================] - 1s 3ms/step - loss: 0.6443 - root_mean_squared_error: 0.2686 - val_loss: 0.6206 - val_root_mean_squared_error: 0.2437\n",
            "Epoch 50/80\n",
            "194/194 [==============================] - 1s 3ms/step - loss: 0.6581 - root_mean_squared_error: 0.2679 - val_loss: 0.6260 - val_root_mean_squared_error: 0.2473\n",
            "Epoch 51/80\n",
            "194/194 [==============================] - 1s 3ms/step - loss: 0.6641 - root_mean_squared_error: 0.2843 - val_loss: 0.6199 - val_root_mean_squared_error: 0.2433\n",
            "Epoch 52/80\n",
            "194/194 [==============================] - 1s 3ms/step - loss: 0.6969 - root_mean_squared_error: 0.2889 - val_loss: 0.6222 - val_root_mean_squared_error: 0.2446\n",
            "Epoch 53/80\n",
            "194/194 [==============================] - 1s 3ms/step - loss: 0.6900 - root_mean_squared_error: 0.3028 - val_loss: 0.6246 - val_root_mean_squared_error: 0.2463\n",
            "Epoch 54/80\n",
            "194/194 [==============================] - 1s 3ms/step - loss: 0.6997 - root_mean_squared_error: 0.2908 - val_loss: 0.6154 - val_root_mean_squared_error: 0.2409\n",
            "Epoch 55/80\n",
            "194/194 [==============================] - 1s 3ms/step - loss: 0.6629 - root_mean_squared_error: 0.2838 - val_loss: 0.6224 - val_root_mean_squared_error: 0.2449\n",
            "Epoch 56/80\n",
            "194/194 [==============================] - 1s 3ms/step - loss: 0.6588 - root_mean_squared_error: 0.2696 - val_loss: 0.6205 - val_root_mean_squared_error: 0.2436\n",
            "Epoch 57/80\n",
            "194/194 [==============================] - 1s 3ms/step - loss: 0.6314 - root_mean_squared_error: 0.2589 - val_loss: 0.6221 - val_root_mean_squared_error: 0.2447\n",
            "Epoch 58/80\n",
            "194/194 [==============================] - 1s 3ms/step - loss: 0.6284 - root_mean_squared_error: 0.2508 - val_loss: 0.6222 - val_root_mean_squared_error: 0.2448\n",
            "Epoch 59/80\n",
            "194/194 [==============================] - 1s 3ms/step - loss: 0.6186 - root_mean_squared_error: 0.2479 - val_loss: 0.6204 - val_root_mean_squared_error: 0.2437\n",
            "Epoch 60/80\n",
            "194/194 [==============================] - 1s 3ms/step - loss: 0.6193 - root_mean_squared_error: 0.2448 - val_loss: 0.6227 - val_root_mean_squared_error: 0.2453\n",
            "Epoch 61/80\n",
            "194/194 [==============================] - 1s 3ms/step - loss: 0.6205 - root_mean_squared_error: 0.2497 - val_loss: 0.6236 - val_root_mean_squared_error: 0.2459\n",
            "Epoch 62/80\n",
            "194/194 [==============================] - 1s 3ms/step - loss: 0.6273 - root_mean_squared_error: 0.2506 - val_loss: 0.6245 - val_root_mean_squared_error: 0.2465\n",
            "Epoch 63/80\n",
            "194/194 [==============================] - 1s 3ms/step - loss: 0.6264 - root_mean_squared_error: 0.2549 - val_loss: 0.6336 - val_root_mean_squared_error: 0.2530\n",
            "Epoch 64/80\n",
            "194/194 [==============================] - 1s 3ms/step - loss: 0.6319 - root_mean_squared_error: 0.2540 - val_loss: 0.6151 - val_root_mean_squared_error: 0.2410\n",
            "Epoch 65/80\n",
            "194/194 [==============================] - 1s 3ms/step - loss: 0.6259 - root_mean_squared_error: 0.2546 - val_loss: 0.6442 - val_root_mean_squared_error: 0.2602\n",
            "Epoch 66/80\n",
            "194/194 [==============================] - 1s 3ms/step - loss: 0.6261 - root_mean_squared_error: 0.2502 - val_loss: 0.6136 - val_root_mean_squared_error: 0.2399\n",
            "Epoch 67/80\n",
            "194/194 [==============================] - 1s 3ms/step - loss: 0.6173 - root_mean_squared_error: 0.2469 - val_loss: 0.6280 - val_root_mean_squared_error: 0.2494\n",
            "Epoch 68/80\n",
            "194/194 [==============================] - 1s 3ms/step - loss: 0.6151 - root_mean_squared_error: 0.2423 - val_loss: 0.6137 - val_root_mean_squared_error: 0.2395\n",
            "Epoch 69/80\n",
            "194/194 [==============================] - 1s 4ms/step - loss: 0.6088 - root_mean_squared_error: 0.2393 - val_loss: 0.6171 - val_root_mean_squared_error: 0.2418\n",
            "Epoch 70/80\n",
            "194/194 [==============================] - 1s 3ms/step - loss: 0.6075 - root_mean_squared_error: 0.2365 - val_loss: 0.6144 - val_root_mean_squared_error: 0.2399\n",
            "Epoch 71/80\n",
            "194/194 [==============================] - 1s 3ms/step - loss: 0.6043 - root_mean_squared_error: 0.2350 - val_loss: 0.6151 - val_root_mean_squared_error: 0.2405\n",
            "Epoch 72/80\n",
            "194/194 [==============================] - 1s 3ms/step - loss: 0.6037 - root_mean_squared_error: 0.2336 - val_loss: 0.6134 - val_root_mean_squared_error: 0.2393\n",
            "Epoch 73/80\n",
            "194/194 [==============================] - 1s 3ms/step - loss: 0.6025 - root_mean_squared_error: 0.2333 - val_loss: 0.6142 - val_root_mean_squared_error: 0.2398\n",
            "Epoch 74/80\n",
            "194/194 [==============================] - 1s 3ms/step - loss: 0.6032 - root_mean_squared_error: 0.2332 - val_loss: 0.6129 - val_root_mean_squared_error: 0.2390\n",
            "Epoch 75/80\n",
            "194/194 [==============================] - 1s 4ms/step - loss: 0.6028 - root_mean_squared_error: 0.2336 - val_loss: 0.6193 - val_root_mean_squared_error: 0.2436\n",
            "Epoch 76/80\n",
            "194/194 [==============================] - 1s 3ms/step - loss: 0.6033 - root_mean_squared_error: 0.2333 - val_loss: 0.6125 - val_root_mean_squared_error: 0.2392\n",
            "Epoch 77/80\n",
            "194/194 [==============================] - 1s 3ms/step - loss: 0.6027 - root_mean_squared_error: 0.2335 - val_loss: 0.6247 - val_root_mean_squared_error: 0.2476\n",
            "Epoch 78/80\n",
            "194/194 [==============================] - 1s 5ms/step - loss: 0.6029 - root_mean_squared_error: 0.2330 - val_loss: 0.6141 - val_root_mean_squared_error: 0.2411\n",
            "Epoch 79/80\n",
            "194/194 [==============================] - 1s 6ms/step - loss: 0.6018 - root_mean_squared_error: 0.2326 - val_loss: 0.6218 - val_root_mean_squared_error: 0.2455\n",
            "Epoch 80/80\n",
            "194/194 [==============================] - 1s 6ms/step - loss: 0.6013 - root_mean_squared_error: 0.2317 - val_loss: 0.6131 - val_root_mean_squared_error: 0.2402\n"
          ]
        }
      ]
    },
    {
      "cell_type": "markdown",
      "source": [
        "## **Evaluasi**"
      ],
      "metadata": {
        "id": "5jREi9TNsiLV"
      }
    },
    {
      "cell_type": "markdown",
      "source": [
        "Metrik evaluasi yang digunakan pada prediksi ini adalah root mean squared error (RMSE)."
      ],
      "metadata": {
        "id": "4X_Wgy-ysyC1"
      }
    },
    {
      "cell_type": "markdown",
      "source": [
        "### Visualisasi Metrik"
      ],
      "metadata": {
        "id": "emxs4ru8dSGo"
      }
    },
    {
      "cell_type": "markdown",
      "source": [
        "Untuk melihat visualisasi proses training, mari kita plot metrik evaluasi dengan matplotlib."
      ],
      "metadata": {
        "id": "yk0eXirBdUFW"
      }
    },
    {
      "cell_type": "code",
      "source": [
        "plt.plot(history.history['root_mean_squared_error'])\n",
        "plt.plot(history.history['val_root_mean_squared_error'])\n",
        "plt.title('model_metrics')\n",
        "plt.ylabel('root_mean_squared_error')\n",
        "plt.xlabel('epoch')\n",
        "plt.legend(['train', 'test'], loc='upper left')\n",
        "plt.show()"
      ],
      "metadata": {
        "colab": {
          "base_uri": "https://localhost:8080/",
          "height": 295
        },
        "id": "vBLImrSfdUrw",
        "outputId": "f4742dc9-3626-4bd4-8b83-a5840d67c528"
      },
      "execution_count": 34,
      "outputs": [
        {
          "output_type": "display_data",
          "data": {
            "text/plain": [
              "<Figure size 432x288 with 1 Axes>"
            ],
            "image/png": "[encoded data removed]"
          },
          "metadata": {
            "needs_background": "light"
          }
        }
      ]
    },
    {
      "cell_type": "markdown",
      "source": [
        "Perhatikanlah, proses training model konvergen pada epochs sekitar 80. Dari proses ini, kita memperoleh nilai error akhir sebesar sekitar 0.23 dan error pada data validasi sebesar 0.24. Nilai tersebut cukup bagus untuk sistem rekomendasi. "
      ],
      "metadata": {
        "id": "hLPdW3UxdW93"
      }
    },
    {
      "cell_type": "markdown",
      "source": [
        "### Mendapatkan Rekomendasi movie"
      ],
      "metadata": {
        "id": "Rf4MSUgmdYsO"
      }
    },
    {
      "cell_type": "code",
      "source": [
        "movie_df = movie\n",
        "df = pd.read_csv('/content/data/Dataset.csv')\n",
        " \n",
        "# Mengambil sample user\n",
        "user_id = df.user_id.sample(1).iloc[0]\n",
        "movie_visited_by_user = df[df.user_id == user_id]\n",
        " \n",
        "# Operator bitwise (~), bisa diketahui di sini https://docs.python.org/3/reference/expressions.html \n",
        "movie_not_visited = movie_df[~movie_df['item_id'].isin(movie_visited_by_user.item_id.values)]['item_id'] \n",
        "movie_not_visited = list(\n",
        "    set(movie_not_visited)\n",
        "    .intersection(set(movie_to_movie_encoded.keys()))\n",
        ")\n",
        " \n",
        "movie_not_visited = [[movie_to_movie_encoded.get(x)] for x in movie_not_visited]\n",
        "user_encoder = user_to_user_encoded.get(user_id)\n",
        "user_movie_array = np.hstack(\n",
        "    ([[user_encoder]] * len(movie_not_visited), movie_not_visited)\n",
        ")"
      ],
      "metadata": {
        "id": "ruL21LjXdWeI"
      },
      "execution_count": 25,
      "outputs": []
    },
    {
      "cell_type": "markdown",
      "source": [
        "Selanjutnya, untuk memperoleh rekomendasi movieran, gunakan fungsi model.predict() dari library Keras dengan menerapkan kode berikut."
      ],
      "metadata": {
        "id": "FjNTVhlGdbUO"
      }
    },
    {
      "cell_type": "code",
      "source": [
        "ratings = model.predict(user_movie_array).flatten()\n",
        " \n",
        "top_ratings_indices = ratings.argsort()[-10:][::-1]\n",
        "recommended_movie_ids = [\n",
        "    movie_encoded_to_movie.get(movie_not_visited[x][0]) for x in top_ratings_indices\n",
        "]\n",
        " \n",
        "print('Showing recommendations for users: {}'.format(user_id))\n",
        "print('===' * 9)\n",
        "print('movie with high ratings from user')\n",
        "print('----' * 8)\n",
        " \n",
        "top_movie_user = (\n",
        "    movie_visited_by_user.sort_values(\n",
        "        by = 'rating',\n",
        "        ascending=False\n",
        "    )\n",
        "    .head(5)\n",
        "    .item_id.values\n",
        ")\n",
        " \n",
        "movie_df_rows = movie_df[movie_df['item_id'].isin(top_movie_user)]\n",
        "for row in movie_df_rows.itertuples():\n",
        "    print(row.title)\n",
        " \n",
        "print('----' * 8)\n",
        "print('Top 10 movie recommendation')\n",
        "print('----' * 8)\n",
        " \n",
        "recommended_movie = movie_df[movie_df['item_id'].isin(recommended_movie_ids)]\n",
        "for row in recommended_movie.itertuples():\n",
        "    print(row.title)"
      ],
      "metadata": {
        "colab": {
          "base_uri": "https://localhost:8080/"
        },
        "id": "CFMW_TmDddKn",
        "outputId": "8fee050c-7237-4de5-af56-8335aaa03772"
      },
      "execution_count": 26,
      "outputs": [
        {
          "output_type": "stream",
          "name": "stdout",
          "text": [
            "Showing recommendations for users: 286\n",
            "===========================\n",
            "movie with high ratings from user\n",
            "--------------------------------\n",
            "Playing God (1997)\n",
            "Mad City (1997)\n",
            "Addicted to Love (1997)\n",
            "Pump Up the Volume (1990)\n",
            "Romy and Michele's High School Reunion (1997)\n",
            "--------------------------------\n",
            "Top 10 movie recommendation\n",
            "--------------------------------\n",
            "Shawshank Redemption, The (1994)\n",
            "Wallace & Gromit: The Best of Aardman Animation (1996)\n",
            "Schindler's List (1993)\n",
            "Rear Window (1954)\n",
            "Prefontaine (1997)\n",
            "Star Kid (1997)\n",
            "Faust (1994)\n",
            "Pather Panchali (1955)\n",
            "Saint of Fort Washington, The (1993)\n",
            "Santa with Muscles (1996)\n"
          ]
        }
      ]
    },
    {
      "cell_type": "markdown",
      "source": [
        "Sebagai contoh, hasil di atas adalah rekomendasi untuk user dengan id 286. Dari output tersebut, kita dapat membandingkan antara movie with high ratings from user dan Top 10 movie recommendation untuk user."
      ],
      "metadata": {
        "id": "Gpl0qs3Cdb7u"
      }
    },
    {
      "cell_type": "markdown",
      "source": [
        "## **Kesimpulan**"
      ],
      "metadata": {
        "id": "YLp6hdAVs_Om"
      }
    },
    {
      "cell_type": "markdown",
      "source": [
        "Berdasarkan dari hasil  pengujian dan analisis dari implementasi yang telah dilakukan dapat disimpulkan bahwa sistem rekomendasi dengan teknik *collaborative filtering* sudah mencapai hasil yang baik dengan nilai error akhir sebesar sekitar 0.23 dan error pada data validasi sebesar 0.24."
      ],
      "metadata": {
        "id": "bqMeve86sa2f"
      }
    },
    {
      "cell_type": "markdown",
      "source": [
        "## **Sumber Referensi**"
      ],
      "metadata": {
        "id": "8Rm1pe06sW83"
      }
    },
    {
      "cell_type": "markdown",
      "source": [
        "[1] Tren Positif Film Indonesia, ‘Industri perfilman Indonesia semakin berkembang. Tren positip dan konsisten baik dari jumlah penonton maupun jumlah judul yang terdata sejak  tahun 2016-2018’, https://indonesia.go.id/ragam/seni/sosial/tren-positif-film-indonesia, 2019. (Diakses pada 2 Agustus 2022)\n",
        "\n",
        "[2] Reddy, S. R. S. et al, ‘Content-Based Movie  Recommendation  System Using Genre Correlation’, in Satapathy, S. C., Bhateja,  V., and Das, S. (eds) Smart Intelligent Computing and Applications. Singapore: Springer Singapore, pp. 391–397, 2019."
      ],
      "metadata": {
        "id": "0heJgMvPsVzY"
      }
    }
  ]
}